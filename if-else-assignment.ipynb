{
 "cells": [
  {
   "cell_type": "markdown",
   "id": "7e1f75f6-38b2-460f-a4db-a76a8ec444ac",
   "metadata": {},
   "source": [
    "<h1 align=\"center\"> Assignment if...elif...else</h1>\n"
   ]
  },
  {
   "cell_type": "markdown",
   "id": "e26c6f85-608c-40e8-b3cf-8de3c05a71c7",
   "metadata": {},
   "source": [
    "<h5>1. Check Even or Odd</h5>\n",
    "<p>Write a Python program that takes an integer input and checks whether the number is even or odd.</p>"
   ]
  },
  {
   "cell_type": "code",
   "execution_count": 22,
   "id": "34d44072-1916-4de4-b319-a9f99942e74a",
   "metadata": {},
   "outputs": [
    {
     "name": "stdin",
     "output_type": "stream",
     "text": [
      "enter a number: 16\n"
     ]
    },
    {
     "name": "stdout",
     "output_type": "stream",
     "text": [
      "Any number which is divisible by 2 is even otherwise its odd\n",
      "even\n"
     ]
    }
   ],
   "source": [
    "x = int(input(\"enter a number:\"))\n",
    "print(\"Any number which is divisible by 2 is even otherwise its odd\")\n",
    "if(x%2 == 0):\n",
    "    print(\"even\")\n",
    "else:\n",
    "    print(\"odd\")\n"
   ]
  },
  {
   "cell_type": "markdown",
   "id": "20b3e162-fff4-40f4-a775-fc340a31edc2",
   "metadata": {},
   "source": [
    "<h5>2. Pass or Fail </h5>\n",
    "<p> Write a Python program to input a student's marks and print \"Pass\" if the marks are 40 or above; otherwise,\n",
    "print \"Fail.\" </p> "
   ]
  },
  {
   "cell_type": "code",
   "execution_count": 65,
   "id": "53924f75-8306-4076-8190-db94715582f5",
   "metadata": {},
   "outputs": [
    {
     "name": "stdin",
     "output_type": "stream",
     "text": [
      "enter your marks : 78\n"
     ]
    },
    {
     "name": "stdout",
     "output_type": "stream",
     "text": [
      "If the marks are below 40 print fail if they are above or equal to 40 print pass\n",
      "Candidate has passed\n"
     ]
    }
   ],
   "source": [
    "x = input(\"enter your marks :\")\n",
    "x = int(x)\n",
    "print(\"If the marks are below 40 print fail if they are above or equal to 40 print pass\")\n",
    "if (x >= 40):\n",
    "    print(\"Candidate has passed\")\n",
    "else:\n",
    "    print(\"Candidate has failed\")"
   ]
  },
  {
   "cell_type": "markdown",
   "id": "02a15919-0c54-4b6d-921a-1b6cfa96cef5",
   "metadata": {},
   "source": [
    "<h5> 3. Positive, Negative, or Zero </h5>\n",
    "<p> Write a program that takes an integer as input and determines if it is positive, negative, or zero. </p>\n"
   ]
  },
  {
   "cell_type": "code",
   "execution_count": 75,
   "id": "a35a256d-7556-41e0-92fe-f969dae573f5",
   "metadata": {},
   "outputs": [
    {
     "name": "stdin",
     "output_type": "stream",
     "text": [
      "Enter a random integer number : -56\n"
     ]
    },
    {
     "name": "stdout",
     "output_type": "stream",
     "text": [
      "If the Number is less than zero it is a negative number\n",
      "Negative number\n"
     ]
    }
   ],
   "source": [
    "a = int(input(\"Enter a random integer number :\"))\n",
    "print(\"If the Number is less than zero it is a negative number\")\n",
    "if (a <= 0 ):\n",
    "    print(\"Negative number\")\n",
    "elif (a == 0):\n",
    "    print(\"Zero\")\n",
    "elif (a >= 0):\n",
    "    print(\"Positive number\")"
   ]
  },
  {
   "cell_type": "markdown",
   "id": "5441045c-db02-408e-bb85-a3bd3a4499a7",
   "metadata": {},
   "source": [
    "<h5>4. Compare Two Numbers</h5>\n",
    "<p>Write a Python program that inputs two numbers and prints which one is greater. If they are equal, print \"Both\n",
    "are equal.\"</p>"
   ]
  },
  {
   "cell_type": "code",
   "execution_count": 84,
   "id": "3f9d061e-41ed-48ad-b128-ca596a7772cd",
   "metadata": {},
   "outputs": [
    {
     "name": "stdin",
     "output_type": "stream",
     "text": [
      "Enter 1st number : 34\n",
      "Enter 2nd number : 43\n"
     ]
    },
    {
     "name": "stdout",
     "output_type": "stream",
     "text": [
      "number 1 is smaller digit\n"
     ]
    }
   ],
   "source": [
    "num1 = float(input(\"Enter 1st number :\"))\n",
    "num2 = float(input(\"Enter 2nd number :\"))\n",
    "if (num1 < num2):\n",
    "    print(\"number 1 is smaller digit\")\n",
    "elif (num1 > num2):\n",
    "    print(\"number 2 is the smaller digit\")\n",
    "elif (num1 == num2):\n",
    "    print(\"both are equal\")\n"
   ]
  },
  {
   "cell_type": "markdown",
   "id": "387d2c84-bb47-4d07-b5c5-9d8c555e9a69",
   "metadata": {},
   "source": [
    "<h5>5. Check Leap Year</h5>\n",
    "<p>Write a program that takes a year as input and determines if it is a leap year. A year is a leap year if it is divisible\n",
    "by 4 but not divisible by 100, except if it is also divisible by 400.</p>"
   ]
  },
  {
   "cell_type": "code",
   "execution_count": 132,
   "id": "bc4d57aa-cb53-484a-959b-fd77a0c95c95",
   "metadata": {},
   "outputs": [
    {
     "name": "stdin",
     "output_type": "stream",
     "text": [
      "Enter the year : 2020\n"
     ]
    },
    {
     "name": "stdout",
     "output_type": "stream",
     "text": [
      "A year is a leap year if it is divisible by 4 but not divisible by 100, except if it is also divisible by 400.\n",
      "It is a leap year\n"
     ]
    }
   ],
   "source": [
    "year = int(input(\"Enter the year :\"))\n",
    "print(\"A year is a leap year if it is divisible by 4 but not divisible by 100, except if it is also divisible by 400.\")\n",
    "\n",
    "if (year % 4 == 0 and year % 100 != 0) or (year % 400 == 0):\n",
    "    print(\"It is a leap year\")\n",
    "else:\n",
    "    print(\"it is not a leap year\")\n"
   ]
  },
  {
   "cell_type": "markdown",
   "id": "727923f5-9550-4c9b-8f77-6255d55e186d",
   "metadata": {},
   "source": [
    "<h5>6. Grading system </h5>\n",
    "<p>Write a Python program that takes marks as input and prints the grade using the following conditions:</p>\n",
    "<li> 90 and above: \"A\"</li>\n",
    "<li> 80 to 89: \"B\"</li>\n",
    "<li> 70 to 79: \"C\" </li>\n",
    "<li> 60 to 69: \"D\" </li>\n",
    "<li> Below 60: \"F\"</li>\n"
   ]
  },
  {
   "cell_type": "code",
   "execution_count": 205,
   "id": "8de90d8a-69f5-4cdb-955a-abf70492962b",
   "metadata": {},
   "outputs": [
    {
     "name": "stdin",
     "output_type": "stream",
     "text": [
      "Enter your marks here :  67\n"
     ]
    },
    {
     "name": "stdout",
     "output_type": "stream",
     "text": [
      "D grade\n"
     ]
    }
   ],
   "source": [
    "x = float(input(\"Enter your marks here : \"))\n",
    "\n",
    "if x >= 90:\n",
    "    print(\"A grade\")\n",
    "elif  80 <= x <= 89:\n",
    "    print(\"B grade\")\n",
    "elif 70 <= x <= 79:\n",
    "    print(\"C grade\")\n",
    "elif 60 <= x <= 69:\n",
    "    print(\"D grade\")\n",
    "else: \n",
    "    print(\"F grade\")\n",
    "\n",
    "\n",
    "          \n"
   ]
  },
  {
   "cell_type": "markdown",
   "id": "a869a09f-f561-4ad1-9adb-fb8f76d51fb4",
   "metadata": {},
   "source": [
    "###### <h5>7. Check Triangle Validity</h5>\n",
    "<p>Write a program that takes three side lengths of a triangle as input and checks if they form a valid triangle. A\n",
    "triangle is valid if the sum of any two sides is greater than the third side.</p>"
   ]
  },
  {
   "cell_type": "code",
   "execution_count": 218,
   "id": "d58b1927-7c6e-41b1-a6b7-c857a141cc75",
   "metadata": {},
   "outputs": [
    {
     "name": "stdin",
     "output_type": "stream",
     "text": [
      "Enter the first side length:  9\n",
      "Enter the second side length:  6\n",
      "Enter the third side length:  6\n"
     ]
    },
    {
     "name": "stdout",
     "output_type": "stream",
     "text": [
      "The sides form a valid triangle.\n"
     ]
    }
   ],
   "source": [
    "a = float(input(\"Enter the first side length: \"))\n",
    "b = float(input(\"Enter the second side length: \"))\n",
    "c = float(input(\"Enter the third side length: \"))\n",
    "\n",
    "if a + b > c and a + c > b and b + c > a:\n",
    "    print(\"The sides form a valid triangle.\")\n",
    "else:\n",
    "    print(\"The sides do not form a valid triangle.\")\n"
   ]
  },
  {
   "cell_type": "markdown",
   "id": "01de64a8-f4d0-4f46-9716-de0a2963fb0b",
   "metadata": {},
   "source": [
    "<h5>8. Nested If: age and nationality check</h5>\n",
    "<p>Write a Python program that asks the user for their age and nationality. Print \"Eligible to Vote\" if the age is 18 or above and nationality is \"Indian.\" Otherwise, print \"Not Eligible to Vote.\"</p>"
   ]
  },
  {
   "cell_type": "code",
   "execution_count": 235,
   "id": "cff78798-1df5-4f93-bcf3-736bcd8bc74e",
   "metadata": {},
   "outputs": [
    {
     "name": "stdin",
     "output_type": "stream",
     "text": [
      "Enter your age :  13\n",
      "Type your nationality:  Indian\n"
     ]
    },
    {
     "name": "stdout",
     "output_type": "stream",
     "text": [
      "You are not eligible to vote\n"
     ]
    }
   ],
   "source": [
    "age = int(input(\"Enter your age : \"))\n",
    "nationality = input(\"Type your nationality: \")\n",
    "if age >= 18 and nationality == Indian:\n",
    "    print(\"You are eligible to vote\")\n",
    "else: \n",
    "    print(\"You are not eligible to vote\")\n",
    "\n",
    "          "
   ]
  },
  {
   "cell_type": "markdown",
   "id": "3fdfee5a-486d-4fe8-a370-d7fe78443f3f",
   "metadata": {},
   "source": [
    "<h5>9. Number Classification</h5>\n",
    "<p>Write a Python program that takes an integer as input and classifies it:</p>\n",
    "<li> If divisible by 2 and 3, print \"Divisible by both 2 and 3.\"</li>\n",
    "<li> If divisible by only 2, print \"Divisible by 2.\"</li>\n",
    "<li> If divisible by only 3, print \"Divisible by 3.\"</li>\n",
    "<li> Otherwise, print \"Not divisible by 2 or 3.</li>"
   ]
  },
  {
   "cell_type": "code",
   "execution_count": 238,
   "id": "f657b90a-c065-4ae8-8a35-e1a5124fb28f",
   "metadata": {},
   "outputs": [
    {
     "name": "stdin",
     "output_type": "stream",
     "text": [
      "Enter an integer:  6\n"
     ]
    },
    {
     "name": "stdout",
     "output_type": "stream",
     "text": [
      "Divisible by both 2 and 3.\n"
     ]
    }
   ],
   "source": [
    "num = int(input(\"Enter an integer: \"))\n",
    "if num % 2 == 0 and num % 3 == 0:\n",
    "    print(\"Divisible by both 2 and 3.\")\n",
    "elif num % 2 == 0:\n",
    "    print(\"Divisible by 2.\")\n",
    "elif num % 3 == 0:\n",
    "    print(\"Divisible by 3.\")\n",
    "else:\n",
    "    print(\"Not divisible by 2 or 3.\")\n"
   ]
  },
  {
   "cell_type": "markdown",
   "id": "d1148a54-4c97-4f11-98f7-0befcf7d0e3c",
   "metadata": {},
   "source": [
    "<h5>10. Largest of three numbers</h5>\n",
    "<p>Write a Python program that takes three numbers as input and prints the largest number using nested if-else\n",
    "statements.</p>"
   ]
  },
  {
   "cell_type": "code",
   "execution_count": 241,
   "id": "e35560e4-a869-499c-a593-a1aac155da6b",
   "metadata": {},
   "outputs": [
    {
     "name": "stdin",
     "output_type": "stream",
     "text": [
      "Enter the first number:  23\n",
      "Enter the second number:  34\n",
      "Enter the third number:  56\n"
     ]
    },
    {
     "name": "stdout",
     "output_type": "stream",
     "text": [
      "The largest number is 56.0\n"
     ]
    }
   ],
   "source": [
    "num1 = float(input(\"Enter the first number: \"))\n",
    "num2 = float(input(\"Enter the second number: \"))\n",
    "num3 = float(input(\"Enter the third number: \"))\n",
    "\n",
    "if num1 >= num2:\n",
    "    if num1 >= num3:\n",
    "        print(f\"The largest number is {num1}\")\n",
    "    else:\n",
    "        print(f\"The largest number is {num3}\")\n",
    "else:\n",
    "    if num2 >= num3:\n",
    "        print(f\"The largest number is {num2}\")\n",
    "    else:\n",
    "        print(f\"The largest number is {num3}\")\n"
   ]
  }
 ],
 "metadata": {
  "kernelspec": {
   "display_name": "Python 3 (ipykernel)",
   "language": "python",
   "name": "python3"
  },
  "language_info": {
   "codemirror_mode": {
    "name": "ipython",
    "version": 3
   },
   "file_extension": ".py",
   "mimetype": "text/x-python",
   "name": "python",
   "nbconvert_exporter": "python",
   "pygments_lexer": "ipython3",
   "version": "3.12.7"
  }
 },
 "nbformat": 4,
 "nbformat_minor": 5
}
