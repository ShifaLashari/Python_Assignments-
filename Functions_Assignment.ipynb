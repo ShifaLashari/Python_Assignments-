{
 "cells": [
  {
   "cell_type": "markdown",
   "id": "defd84d2-1b52-4f10-94d7-a0bcfe83e6d5",
   "metadata": {},
   "source": [
    "<h1 align=\"center\">Functions Assignment</h1>"
   ]
  },
  {
   "cell_type": "markdown",
   "id": "f8ba9251-25ba-41c8-a37e-190c0608efa6",
   "metadata": {},
   "source": [
    "<p>1- Write a function add_numbers(a, b) that takes two numbers as arguments and returns their sum.</p>"
   ]
  },
  {
   "cell_type": "code",
   "execution_count": 7,
   "id": "6e4391d4-49db-477d-8338-c58db35b8b25",
   "metadata": {},
   "outputs": [
    {
     "name": "stdout",
     "output_type": "stream",
     "text": [
      "2  +  23  =  25\n"
     ]
    }
   ],
   "source": [
    "\n",
    "def mysum3(a, b):  \n",
    "    \"\"\" Calculates and returns the sum of two numbers.\n",
    "    Arguments:\n",
    "       a - First number \n",
    "       b - Second number\n",
    "    \"\"\"\n",
    "    total = a + b\n",
    "    return total\n",
    "\n",
    "#calling a function\n",
    "a = 2 \n",
    "b = 23\n",
    "rv = mysum3(a, b)\n",
    "print(a, \" + \", b, \" = \", rv)"
   ]
  },
  {
   "cell_type": "markdown",
   "id": "627a7b2e-3313-439f-a2df-a3b52cbf81aa",
   "metadata": {},
   "source": [
    "<p>2- Define a function square(x) that takes a number and returns its square.</p>"
   ]
  },
  {
   "cell_type": "code",
   "execution_count": 10,
   "id": "8baeae36-a330-4202-a4f3-1a32f0848a32",
   "metadata": {},
   "outputs": [
    {
     "name": "stdout",
     "output_type": "stream",
     "text": [
      "The square of 5 is: 25\n"
     ]
    }
   ],
   "source": [
    "def square(x):\n",
    "    \"\"\"Calculates the square of a number.\n",
    "\n",
    "    Args:\n",
    "        x: The number to be squared.\n",
    "\n",
    "    Returns:\n",
    "        The square of x.\n",
    "    \"\"\"\n",
    "    return x * x\n",
    "result = square(5)\n",
    "print(f\"The square of 5 is: {result}\")  "
   ]
  },
  {
   "cell_type": "markdown",
   "id": "c84794c4-7618-40b9-9669-b1d378e7efa1",
   "metadata": {},
   "source": [
    "<p>3-Write a function multiply(a, b, c) that takes three numbers and returns their product.</p>"
   ]
  },
  {
   "cell_type": "code",
   "execution_count": 13,
   "id": "dc0352eb-e93f-4238-96a8-a798be2c152a",
   "metadata": {},
   "outputs": [
    {
     "name": "stdout",
     "output_type": "stream",
     "text": [
      "The product of 2, 3, and 4 is: 24\n"
     ]
    }
   ],
   "source": [
    "def multiply(a, b, c):\n",
    "    \"\"\" Calculates the product of three numbers.\n",
    "\n",
    "    Args:\n",
    "        a: The first number.\n",
    "        b: The second number.\n",
    "        c: The third number.\n",
    "\n",
    "    Returns:\n",
    "        The product of a, b, and c.\n",
    "    \"\"\"\n",
    "    return a * b * c\n",
    "result = multiply(2, 3, 4)\n",
    "print(f\"The product of 2, 3, and 4 is: {result}\") "
   ]
  },
  {
   "cell_type": "markdown",
   "id": "0b36a46f-1eed-44e3-9e62-e131bc575aa5",
   "metadata": {},
   "source": [
    "<p>4- Write a function greet_user(name=\"Guest\") that prints \"Hello, [name]!\"</p>"
   ]
  },
  {
   "cell_type": "code",
   "execution_count": 17,
   "id": "f671e871-a8cd-41b3-942c-8625cda388dd",
   "metadata": {},
   "outputs": [
    {
     "name": "stdout",
     "output_type": "stream",
     "text": [
      "Hello, Guest!\n",
      "Hello, Khadijah!\n"
     ]
    }
   ],
   "source": [
    "def greet_user(name=\"Guest\"):\n",
    "    \"\"\" Prints a greeting message to the user.\n",
    "\n",
    "    Args:\n",
    "        name: The name of the user. Defaults to \"Guest\".\n",
    "    \"\"\"\n",
    "    print(f\"Hello, {name}!\")\n",
    "\n",
    "greet_user()         \n",
    "greet_user(\"Khadijah\")   "
   ]
  },
  {
   "cell_type": "markdown",
   "id": "ed537c3d-8d41-4e1b-b1c2-b4ff7b669bdc",
   "metadata": {},
   "source": [
    "<p>5-Create a Python program that acts as a calculator. The program should allow the user to perform\n",
    "basic arithmetic operations and should include the following features:</p>\n",
    "<li>Operations:\n",
    "<ol> Addition (+)</ol>\n",
    "<ol> Subtraction (-)</ol>\n",
    "<ol> Multiplication (*)</ol>\n",
    "<ol> Division (/)</ol>\n",
    "<ol> Power (Exponentiation ^)</ol></li>"
   ]
  },
  {
   "cell_type": "code",
   "execution_count": 1,
   "id": "c5d0abd0-6fd4-49b3-995c-77b61a4c0a23",
   "metadata": {},
   "outputs": [
    {
     "name": "stdout",
     "output_type": "stream",
     "text": [
      "Welcome to the Calculator Program!\n",
      "\n",
      "Please select an operation:\n",
      "1. Addition\n",
      "2. Subtraction\n",
      "3. Multiplication\n",
      "4. Division\n",
      "5. Power\n",
      "6. Exit\n"
     ]
    },
    {
     "name": "stdin",
     "output_type": "stream",
     "text": [
      "Enter your choice:  5\n",
      "Enter the first number:  24\n",
      "Enter the second number:  12\n"
     ]
    },
    {
     "name": "stdout",
     "output_type": "stream",
     "text": [
      "Result: 3.652034743605658e+16\n",
      "\n",
      "Please select an operation:\n",
      "1. Addition\n",
      "2. Subtraction\n",
      "3. Multiplication\n",
      "4. Division\n",
      "5. Power\n",
      "6. Exit\n"
     ]
    },
    {
     "name": "stdin",
     "output_type": "stream",
     "text": [
      "Enter your choice:  6\n"
     ]
    },
    {
     "name": "stdout",
     "output_type": "stream",
     "text": [
      "Exiting...\n"
     ]
    }
   ],
   "source": [
    "def add(x, y):\n",
    "    \"\"\"Adds two numbers.\"\"\"\n",
    "    return x + y\n",
    "\n",
    "def subtract(x, y):\n",
    "    \"\"\"Subtracts two numbers.\"\"\"\n",
    "    return x - y\n",
    "\n",
    "def multiply(x, y):\n",
    "    \"\"\"Multiplies two numbers.\"\"\"\n",
    "    return x * y\n",
    "\n",
    "def divide(x, y):\n",
    "    \"\"\"Divides two numbers.\"\"\"\n",
    "    if y == 0:\n",
    "        return \"Error: Division by zero\"\n",
    "    return x / y\n",
    "\n",
    "def power(x, y):\n",
    "    \"\"\"Raises x to the power of y.\"\"\"\n",
    "    return x ** y\n",
    "\n",
    "def calculator():\n",
    "    \"\"\"Calculator program.\"\"\"\n",
    "    print(\"Welcome to the Calculator Program!\")\n",
    "\n",
    "    while True:\n",
    "        print(\"\\nPlease select an operation:\")\n",
    "        print(\"1. Addition\")\n",
    "        print(\"2. Subtraction\")\n",
    "        print(\"3. Multiplication\")\n",
    "        print(\"4. Division\")\n",
    "        print(\"5. Power\")\n",
    "        print(\"6. Exit\")\n",
    "\n",
    "        choice = input(\"Enter your choice: \")\n",
    "\n",
    "        if choice == '6':\n",
    "            print(\"Exiting...\")\n",
    "            break\n",
    "\n",
    "        try:\n",
    "            num1 = float(input(\"Enter the first number: \"))\n",
    "            num2 = float(input(\"Enter the second number: \"))\n",
    "        except ValueError:\n",
    "            print(\"Invalid input. Please enter numbers only.\")\n",
    "            continue\n",
    "\n",
    "        if choice == '1':\n",
    "            result = add(num1, num2)\n",
    "        elif choice == '2':\n",
    "            result = subtract(num1, num2)\n",
    "        elif choice == '3':\n",
    "            result = multiply(num1, num2)\n",
    "        elif choice == '4':\n",
    "            result = divide(num1, num2)\n",
    "        elif choice == '5':\n",
    "            result = power(num1, num2)\n",
    "        else:\n",
    "            print(\"Invalid choice. Please select a valid option.\")\n",
    "            continue\n",
    "\n",
    "        print(\"Result:\", result)\n",
    "\n",
    "if __name__ == \"__main__\":\n",
    "    calculator()"
   ]
  },
  {
   "cell_type": "markdown",
   "id": "3fe58060-d92e-47ef-98d5-1c2cf1318753",
   "metadata": {},
   "source": [
    "<p>6- Create a Python program that calculates the grade for a subject based on the marks provided by the\n",
    "user.</p>"
   ]
  },
  {
   "cell_type": "code",
   "execution_count": 5,
   "id": "5a811f52-0127-4a23-926e-2451603ba761",
   "metadata": {},
   "outputs": [
    {
     "name": "stdin",
     "output_type": "stream",
     "text": [
      "Enter marks for a subject (or 'exit' to quit):  45\n"
     ]
    },
    {
     "name": "stdout",
     "output_type": "stream",
     "text": [
      "Grade: Fail\n"
     ]
    },
    {
     "name": "stdin",
     "output_type": "stream",
     "text": [
      "Enter marks for a subject (or 'exit' to quit):  89\n"
     ]
    },
    {
     "name": "stdout",
     "output_type": "stream",
     "text": [
      "Grade: A\n"
     ]
    },
    {
     "name": "stdin",
     "output_type": "stream",
     "text": [
      "Enter marks for a subject (or 'exit' to quit):  91\n"
     ]
    },
    {
     "name": "stdout",
     "output_type": "stream",
     "text": [
      "Grade: A\n"
     ]
    },
    {
     "name": "stdin",
     "output_type": "stream",
     "text": [
      "Enter marks for a subject (or 'exit' to quit):  exit\n"
     ]
    },
    {
     "name": "stdout",
     "output_type": "stream",
     "text": [
      "Exiting...\n"
     ]
    }
   ],
   "source": [
    "def calculate_grade(marks):\n",
    "  \"\"\"\n",
    "  Calculates the grade based on the marks obtained.\n",
    "\n",
    "  Args:\n",
    "      marks: The marks obtained by the student (out of 100).\n",
    "\n",
    "  Returns:\n",
    "      The corresponding grade.\n",
    "  \"\"\"\n",
    "  if marks > 100 or marks < 0:\n",
    "    return \"Invalid marks. Please enter marks between 0 and 100.\"\n",
    "  elif marks > 85:\n",
    "    return \"A\"\n",
    "  elif marks > 80:\n",
    "    return \"A-\"\n",
    "  elif marks > 70:\n",
    "    return \"B\"\n",
    "  elif marks > 60:\n",
    "    return \"C\"\n",
    "  elif marks > 50:\n",
    "    return \"D\"\n",
    "  else:\n",
    "    return \"Fail\"\n",
    "\n",
    "def main():\n",
    "  \"\"\"Calculates and displays grades for multiple subjects.\"\"\"\n",
    "  while True:\n",
    "    choice = input(\"Enter marks for a subject (or 'exit' to quit): \")\n",
    "    if choice.lower() == 'exit':\n",
    "      print(\"Exiting...\")\n",
    "      break\n",
    "\n",
    "    try:\n",
    "      marks = float(choice)\n",
    "      grade = calculate_grade(marks)\n",
    "      print(f\"Grade: {grade}\")\n",
    "    except ValueError:\n",
    "      print(\"Invalid input. Please enter a number or 'exit'.\")\n",
    "\n",
    "if __name__ == \"__main__\":\n",
    "  main()"
   ]
  },
  {
   "cell_type": "markdown",
   "id": "790978e4-81f2-4694-b1ab-071de8ebfa7a",
   "metadata": {},
   "source": [
    "<p>7-Write a Python program that calculates the results of a student based on their marks in three\n",
    "subjects. The program should include the following functionality:</p>\n",
    "<p>o Prompt the user to enter the marks for three subjects.</p>\n",
    "<p>o Ensure that the entered marks are valid (between 0 and 50). If the marks are outside this range,\n",
    "display an appropriate error message and prompt the user again.</p>"
   ]
  },
  {
   "cell_type": "code",
   "execution_count": null,
   "id": "50cd6752-7650-4383-81c1-f70722d14b3d",
   "metadata": {},
   "outputs": [
    {
     "name": "stdin",
     "output_type": "stream",
     "text": [
      "Enter marks (0-50):  45\n",
      "Enter marks (0-50):  exit\n"
     ]
    },
    {
     "name": "stdout",
     "output_type": "stream",
     "text": [
      "Invalid input. Please enter a number.\n"
     ]
    }
   ],
   "source": [
    "def get_valid_marks():\n",
    "    \"\"\"\n",
    "    Prompts the user to enter valid marks for a subject.\n",
    "    Validates the input and ensures it's within the range of 0 to 50.\n",
    "\n",
    "    Returns:\n",
    "        The valid marks entered by the user.\n",
    "    \"\"\"\n",
    "    while True:\n",
    "        try:\n",
    "            marks = int(input(\"Enter marks (0-50): \"))\n",
    "            if 0 <= marks <= 50:\n",
    "                return marks\n",
    "            else:\n",
    "                print(\"Invalid input. Marks must be between 0 and 50.\")\n",
    "        except ValueError:\n",
    "            print(\"Invalid input. Please enter a number.\")\n",
    "\n",
    "def calculate_grade(marks):\n",
    "    \"\"\"\n",
    "    Calculates the grade based on the given marks.\n",
    "\n",
    "    Args:\n",
    "        marks: The marks obtained by the student.\n",
    "\n",
    "    Returns:\n",
    "        The corresponding grade.\n",
    "    \"\"\"\n",
    "    if marks > 85:\n",
    "        return \"A\"\n",
    "    elif marks > 80:\n",
    "        return \"A-\"\n",
    "    elif marks > 70:\n",
    "        return \"B\"\n",
    "    elif marks > 60:\n",
    "        return \"C\"\n",
    "    elif marks > 50:\n",
    "        return \"D\"\n",
    "    else:\n",
    "        return \"Fail\"\n",
    "\n",
    "if __name__ == \"__main__\":\n",
    "    marks1 = get_valid_marks()\n",
    "    marks2 = get_valid_marks()\n",
    "    marks3 = get_valid_marks()\n",
    "\n",
    "    grade1 = calculate_grade(marks1)\n",
    "    grade2 = calculate_grade(marks2)\n",
    "    grade3 = calculate_grade(marks3)\n",
    "\n",
    "    total_marks = marks1 + marks2 + marks3\n",
    "    average_marks = total_marks / 3\n",
    "    print(\"\\nResults:\")\n",
    "    print(f\"Subject 1: Marks = {marks1}, Grade = {grade1}\")\n",
    "    print(f\"Subject 2: Marks = {marks2}, Grade = {grade2}\")\n",
    "    print(f\"Subject 3: Marks = {marks3}, Grade = {grade3}\")\n",
    "    print(f\"Total Marks: {total_marks}/150\")\n",
    "    print(f\"Average Marks: {average_marks:.2f}\")"
   ]
  },
  {
   "cell_type": "markdown",
   "id": "907015d0-e78f-4782-9268-86c6ad08bd91",
   "metadata": {},
   "source": [
    "<p>8- Create a program to calculate the monthly electricity bill based on usage.</p>"
   ]
  },
  {
   "cell_type": "markdown",
   "id": "e090281a-b759-46b4-85cb-71238767748f",
   "metadata": {},
   "source": [
    "def calculate_electricity_bill(units_consumed):\n",
    "  \"\"\"\n",
    "  Calculates the electricity bill based on the number of units consumed.\n",
    "\n",
    "  Args:\n",
    "    units_consumed: The number of units consumed.\n",
    "\n",
    "  Returns:\n",
    "    The total electricity bill.\n",
    "  \"\"\"\n",
    "  bill = 0.0\n",
    "\n",
    "  if units_consumed <= 100:\n",
    "    bill = units_consumed * 0.5\n",
    "  elif units_consumed <= 200:\n",
    "    bill = 100 * 0.5 + (units_consumed - 100) * 0.75\n",
    "  else:\n",
    "    bill = 100 * 0.5 + 100 * 0.75 + (units_consumed - 200) * 1.2\n",
    "\n",
    "  return bill\n",
    "\n",
    "if __name__ == \"__main__\":\n",
    "  units_consumed = int(input(\"Enter the number of units consumed: \"))\n",
    "  total_bill = calculate_electricity_bill(units_consumed)\n",
    "  print(f\"Total electricity bill: ${total_bill:.2f}\")"
   ]
  },
  {
   "cell_type": "markdown",
   "id": "2fe7de8b-a635-4501-b3d0-94ae8247f2eb",
   "metadata": {},
   "source": [
    "<p>9- Write a program to calculate statistics for a list of numbers.</p>\n",
    "<p>o Ask the user to input 10 numbers.</p>\n",
    "\n",
    "<p>o Calculate and display:</p>\n",
    "<p> The smallest number.</p>\n",
    "<p>The largest number.</p>\n",
    "<p>The average of all numbers.</p>\n",
    "<p>o Ensure all inputs are numeric.</p>"
   ]
  },
  {
   "cell_type": "code",
   "execution_count": 5,
   "id": "56af7b1d-49e0-4ac7-ac8e-37977cc9a662",
   "metadata": {},
   "outputs": [
    {
     "name": "stdin",
     "output_type": "stream",
     "text": [
      "Enter number 1:  12\n",
      "Enter number 2:  24\n",
      "Enter number 3:  36\n",
      "Enter number 4:  48\n",
      "Enter number 5:  60\n",
      "Enter number 6:  72\n",
      "Enter number 7:  84\n",
      "Enter number 8:  96\n",
      "Enter number 9:  108\n",
      "Enter number 10:  120\n"
     ]
    },
    {
     "name": "stdout",
     "output_type": "stream",
     "text": [
      "\n",
      "Statistics:\n",
      "Smallest number: 12.0\n",
      "Largest number: 120.0\n",
      "Average: 66.00\n"
     ]
    }
   ],
   "source": [
    "def get_numbers():\n",
    "  \"\"\"\n",
    "  Prompts the user to enter 10 numbers and validates the input.\n",
    "\n",
    "  Returns:\n",
    "    A list of 10 numbers entered by the user.\n",
    "  \"\"\"\n",
    "  numbers = []\n",
    "  while len(numbers) < 10:\n",
    "    try:\n",
    "      number = float(input(f\"Enter number {len(numbers) + 1}: \"))\n",
    "      numbers.append(number)\n",
    "    except ValueError:\n",
    "      print(\"Invalid input. Please enter a number.\")\n",
    "  return numbers\n",
    "\n",
    "def calculate_statistics(numbers):\n",
    "  \"\"\"\n",
    "  Calculates the smallest, largest, and average of a list of numbers.\n",
    "\n",
    "  Args:\n",
    "    numbers: A list of numbers.\n",
    "\n",
    "  Returns:\n",
    "    A tuple containing the smallest, largest, and average of the numbers.\n",
    "  \"\"\"\n",
    "  smallest = min(numbers)\n",
    "  largest = max(numbers)\n",
    "  average = sum(numbers) / len(numbers)\n",
    "  return smallest, largest, average\n",
    "\n",
    "if __name__ == \"__main__\":\n",
    "  numbers = get_numbers()\n",
    "  smallest, largest, average = calculate_statistics(numbers)\n",
    "\n",
    "  print(\"\\nStatistics:\")\n",
    "  print(f\"Smallest number: {smallest}\")\n",
    "  print(f\"Largest number: {largest}\")\n",
    "  print(f\"Average: {average:.2f}\")"
   ]
  },
  {
   "cell_type": "markdown",
   "id": "0df66450-b1f9-4cfe-97fd-702ee9e38097",
   "metadata": {},
   "source": [
    "<p>10- Write a program to calculate the total cost of grocery items purchased.</p>"
   ]
  },
  {
   "cell_type": "code",
   "execution_count": 1,
   "id": "0697696b-5403-48c7-a268-87fabb468e63",
   "metadata": {},
   "outputs": [
    {
     "name": "stdin",
     "output_type": "stream",
     "text": [
      "Enter number of items:  2\n"
     ]
    },
    {
     "name": "stdout",
     "output_type": "stream",
     "text": [
      "Item 1:\n"
     ]
    },
    {
     "name": "stdin",
     "output_type": "stream",
     "text": [
      "Name:  strawberry\n",
      "Price per unit:  45\n",
      "Quantity:  2\n"
     ]
    },
    {
     "name": "stdout",
     "output_type": "stream",
     "text": [
      "Item 2:\n"
     ]
    },
    {
     "name": "stdin",
     "output_type": "stream",
     "text": [
      "Name:  cherry\n",
      "Price per unit:  48\n",
      "Quantity:  3\n"
     ]
    },
    {
     "name": "stdout",
     "output_type": "stream",
     "text": [
      "\n",
      "Bill:\n",
      "strawberry: $90.00\n",
      "cherry: $144.00\n",
      "Total Cost: $234.00\n"
     ]
    }
   ],
   "source": [
    "def get_grocery_details():\n",
    "  \"\"\"\n",
    "  Gets the details of grocery items from the user.\n",
    "\n",
    "  Returns:\n",
    "    A list of dictionaries, where each dictionary represents an item \n",
    "    and contains its name, price, and quantity.\n",
    "  \"\"\"\n",
    "  num_items = int(input(\"Enter number of items: \"))\n",
    "  items = []\n",
    "  for i in range(1, num_items + 1):\n",
    "    print(f\"Item {i}:\")\n",
    "    while True:\n",
    "      try:\n",
    "        name = input(\"Name: \")\n",
    "        price = float(input(\"Price per unit: \"))\n",
    "        if price <= 0:\n",
    "          raise ValueError(\"Price must be positive.\")\n",
    "        quantity = int(input(\"Quantity: \"))\n",
    "        if quantity <= 0:\n",
    "          raise ValueError(\"Quantity must be positive.\")\n",
    "        items.append({\"name\": name, \"price\": price, \"quantity\": quantity})\n",
    "        break\n",
    "      except ValueError as e:\n",
    "        print(f\"Invalid input: {e}\")\n",
    "  return items\n",
    "\n",
    "def display_bill(items):\n",
    "  \"\"\"\n",
    "  Displays the bill with item details and total cost.\n",
    "\n",
    "  Args:\n",
    "    items: A list of dictionaries, where each dictionary represents an item.\n",
    "  \"\"\"\n",
    "  print(\"\\nBill:\")\n",
    "  total_cost = 0.0\n",
    "  for item in items:\n",
    "    item_cost = item[\"price\"] * item[\"quantity\"]\n",
    "    print(f\"{item['name']}: ${item_cost:.2f}\")\n",
    "    total_cost += item_cost\n",
    "  print(f\"Total Cost: ${total_cost:.2f}\")\n",
    "\n",
    "if __name__ == \"__main__\":\n",
    "  grocery_items = get_grocery_details()\n",
    "  display_bill(grocery_items)"
   ]
  }
 ],
 "metadata": {
  "kernelspec": {
   "display_name": "Python 3 (ipykernel)",
   "language": "python",
   "name": "python3"
  },
  "language_info": {
   "codemirror_mode": {
    "name": "ipython",
    "version": 3
   },
   "file_extension": ".py",
   "mimetype": "text/x-python",
   "name": "python",
   "nbconvert_exporter": "python",
   "pygments_lexer": "ipython3",
   "version": "3.12.7"
  }
 },
 "nbformat": 4,
 "nbformat_minor": 5
}
