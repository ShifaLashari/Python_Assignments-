{
 "cells": [
  {
   "cell_type": "markdown",
   "id": "1776f63f",
   "metadata": {},
   "source": [
    "### Assignment-02\n",
    "- Change the notebook name with your name and Roll Number.\n",
    "- Try this as your own, no chatgpt (it's for your learning)\n",
    "- after completing the assignment, submit this book on google class room."
   ]
  },
  {
   "cell_type": "markdown",
   "id": "5bc28c35",
   "metadata": {},
   "source": [
    "Declare and print a variable with the name \"name\" containing your name.\n"
   ]
  },
  {
   "cell_type": "code",
   "execution_count": 212,
   "id": "ff18c70d-aa5f-40ea-b02b-3fb991009434",
   "metadata": {},
   "outputs": [
    {
     "name": "stdout",
     "output_type": "stream",
     "text": [
      "Shifa Lashari\n"
     ]
    }
   ],
   "source": [
    "Name = \"Shifa Lashari\"\n",
    "print (Name)"
   ]
  },
  {
   "cell_type": "markdown",
   "id": "36311edb-ff5b-462c-b08c-55ec94150c14",
   "metadata": {},
   "source": [
    "Create two variables, x and y, and swap their values without using a third variable.\n"
   ]
  },
  {
   "cell_type": "code",
   "execution_count": 214,
   "id": "5734b25c",
   "metadata": {},
   "outputs": [
    {
     "name": "stdout",
     "output_type": "stream",
     "text": [
      "After swap:\n",
      "x= 32\n",
      "y= 23\n"
     ]
    }
   ],
   "source": [
    "x = 23\n",
    "y = 32 \n",
    "x, y = y, x \n",
    "print(\"After swap:\") \n",
    "print(\"x=\", x)\n",
    "print(\"y=\", y)"
   ]
  },
  {
   "cell_type": "markdown",
   "id": "68c5f126",
   "metadata": {},
   "source": [
    "Calculate the area of a rectangle with length and width stored in variables.\n"
   ]
  },
  {
   "cell_type": "code",
   "execution_count": 216,
   "id": "864cbdb4-6246-4831-9156-5e149fca92e4",
   "metadata": {},
   "outputs": [
    {
     "name": "stdout",
     "output_type": "stream",
     "text": [
      "The area of the rectangle will be: 345\n"
     ]
    }
   ],
   "source": [
    "length = 15\n",
    "width = 23\n",
    "area = length*width\n",
    "print(\"The area of the rectangle will be:\", area)\n",
    "\n"
   ]
  },
  {
   "cell_type": "markdown",
   "id": "e452ae4d",
   "metadata": {},
   "source": [
    "Create a variable with a long string (multi-line) and print its length."
   ]
  },
  {
   "cell_type": "code",
   "execution_count": 218,
   "id": "0f7d6636",
   "metadata": {},
   "outputs": [
    {
     "name": "stdout",
     "output_type": "stream",
     "text": [
      "length: 204\n"
     ]
    }
   ],
   "source": [
    "string = \"We have lands at different places which are being fertilized using natural fertilizers and irrigated with groung water, these lands provide consumers with produce in that area without depleting resources.\"\n",
    "length = len(string)\n",
    "print(\"length:\", length)\n"
   ]
  },
  {
   "cell_type": "markdown",
   "id": "708def01",
   "metadata": {},
   "source": [
    "Create a variable to store your favorite number and print it."
   ]
  },
  {
   "cell_type": "code",
   "execution_count": 172,
   "id": "d810e261",
   "metadata": {},
   "outputs": [
    {
     "name": "stdout",
     "output_type": "stream",
     "text": [
      "Lahore\n"
     ]
    }
   ],
   "source": [
    "city = \"Lahore\"\n",
    "print(city)"
   ]
  },
  {
   "cell_type": "markdown",
   "id": "9088a41e",
   "metadata": {},
   "source": [
    "Declare and assign values to multiple variables to represent the sides of a triangle. Calculate and print its perimeter.\n"
   ]
  },
  {
   "cell_type": "code",
   "execution_count": 108,
   "id": "13d9d2d2",
   "metadata": {},
   "outputs": [
    {
     "name": "stdout",
     "output_type": "stream",
     "text": [
      "Perimeter of the triangle is: 13\n"
     ]
    }
   ],
   "source": [
    "# formula to calculate the perimeter of a triangle is the sum of lengths of all 3 sides of a triangle which are given as a, b and c in this case:\n",
    "a = 3 \n",
    "b = 4\n",
    "c = 6 \n",
    "perimeter = a + b + c \n",
    "print(\"Perimeter of the triangle is:\", perimeter)\n",
    "\n"
   ]
  },
  {
   "cell_type": "markdown",
   "id": "a76f2d4f",
   "metadata": {},
   "source": [
    "Store the price of an item in one variable and the quantity in another. Calculate and print the total cost.\n"
   ]
  },
  {
   "cell_type": "code",
   "execution_count": 174,
   "id": "8cc9115b",
   "metadata": {},
   "outputs": [
    {
     "name": "stdout",
     "output_type": "stream",
     "text": [
      "total cost: 375\n"
     ]
    }
   ],
   "source": [
    "# price of apples per kilograms is 125 rupees \n",
    "# Quantity is given in kilograms here \n",
    "price = 125\n",
    "quantity =3\n",
    "cost = price*quantity\n",
    "print(\"total cost:\", cost)"
   ]
  },
  {
   "cell_type": "markdown",
   "id": "7d9d0793",
   "metadata": {},
   "source": [
    "Declare a constant variable for the value of pi (π) and use it to calculate the circumference of a circle with a given radius."
   ]
  },
  {
   "cell_type": "code",
   "execution_count": 190,
   "id": "254f3e92",
   "metadata": {},
   "outputs": [
    {
     "name": "stdout",
     "output_type": "stream",
     "text": [
      "Radius: 7\n",
      "Circumference of circle: 43.982297150257104\n"
     ]
    }
   ],
   "source": [
    "import math \n",
    "pi = math.pi\n",
    "radius = 7 \n",
    "circumference = 2* pi * radius\n",
    "print(\"Radius:\", radius)\n",
    "print(\"Circumference of circle:\", circumference)"
   ]
  },
  {
   "cell_type": "markdown",
   "id": "2415eca0",
   "metadata": {},
   "source": [
    "Calculate the sum of two numbers, a and b."
   ]
  },
  {
   "cell_type": "code",
   "execution_count": 176,
   "id": "8eeee19d",
   "metadata": {},
   "outputs": [
    {
     "name": "stdout",
     "output_type": "stream",
     "text": [
      "sum of a & b is: 1083\n"
     ]
    }
   ],
   "source": [
    "a = 651\n",
    "b = 432\n",
    "sum = a+b\n",
    "print(\"sum of a & b is:\", sum)"
   ]
  },
  {
   "cell_type": "markdown",
   "id": "2f3f9653",
   "metadata": {},
   "source": [
    "Calculate the product of two numbers, a and b.\n"
   ]
  },
  {
   "cell_type": "code",
   "execution_count": 178,
   "id": "baac0709",
   "metadata": {},
   "outputs": [
    {
     "name": "stdout",
     "output_type": "stream",
     "text": [
      "product of a & b is: 2120\n"
     ]
    }
   ],
   "source": [
    "a = 40\n",
    "b = 53\n",
    "product = a*b\n",
    "print(\"product of a & b is:\", product)\n"
   ]
  },
  {
   "cell_type": "markdown",
   "id": "263bb83b",
   "metadata": {},
   "source": [
    "Calculate the result of dividing a by b (with proper error handling for division by zero).\n"
   ]
  },
  {
   "cell_type": "code",
   "execution_count": 188,
   "id": "783ef794",
   "metadata": {},
   "outputs": [
    {
     "name": "stdout",
     "output_type": "stream",
     "text": [
      "after dividing 32 by 4 we get: 8.0\n"
     ]
    }
   ],
   "source": [
    "a =32\n",
    "b = 4\n",
    "divide = a/b\n",
    "print(\"after dividing 32 by 4 we get:\", divide)"
   ]
  },
  {
   "cell_type": "markdown",
   "id": "1160a016",
   "metadata": {},
   "source": [
    "Calculate the square of a number x."
   ]
  },
  {
   "cell_type": "code",
   "execution_count": 186,
   "id": "ba1443de",
   "metadata": {},
   "outputs": [
    {
     "name": "stdout",
     "output_type": "stream",
     "text": [
      "square of 13 is: 169\n"
     ]
    }
   ],
   "source": [
    "# the operator for exponent is ** \n",
    "x = 13\n",
    "square = x**2\n",
    "print(\"square of 13 is:\", square)"
   ]
  },
  {
   "cell_type": "markdown",
   "id": "927cffd3",
   "metadata": {},
   "source": [
    "Calculate the remainder when a is divided by b."
   ]
  },
  {
   "cell_type": "code",
   "execution_count": 184,
   "id": "f95b1e5c",
   "metadata": {},
   "outputs": [
    {
     "name": "stdout",
     "output_type": "stream",
     "text": [
      "the remainder when we divide 72 by 5 is: 2\n"
     ]
    }
   ],
   "source": [
    "# in order to calculate the remainder we use \"%\" operator between dividend and devisor, respectively \n",
    "a = 72\n",
    "b = 5\n",
    "remainder= a%b\n",
    "print(\"the remainder when we divide 72 by 5 is:\", remainder)"
   ]
  },
  {
   "cell_type": "markdown",
   "id": "fad0381a",
   "metadata": {},
   "source": [
    " Calculate the result of dividing 17 by 3 and print the quotient and remainder."
   ]
  },
  {
   "cell_type": "code",
   "execution_count": 182,
   "id": "6bbe2ffb",
   "metadata": {},
   "outputs": [
    {
     "name": "stdout",
     "output_type": "stream",
     "text": [
      "The remainder when we divide 17 by 3 is: 2\n",
      "The quotient when we divide 17 by 3 is: 5\n"
     ]
    }
   ],
   "source": [
    "a = 17 \n",
    "b = 3 \n",
    "remainder = 17%3\n",
    "quotient = 17//3      # the operator for determining the quotient is //\n",
    "print(\"The remainder when we divide 17 by 3 is:\", remainder)\n",
    "print(\"The quotient when we divide 17 by 3 is:\", quotient)"
   ]
  },
  {
   "cell_type": "markdown",
   "id": "0abdb0ba",
   "metadata": {},
   "source": [
    "Calculate the area of a square with a given side length.\n"
   ]
  },
  {
   "cell_type": "code",
   "execution_count": 180,
   "id": "4a0edefb",
   "metadata": {},
   "outputs": [
    {
     "name": "stdout",
     "output_type": "stream",
     "text": [
      "Area of the square is: 144\n"
     ]
    }
   ],
   "source": [
    "#length of a side of square is 12 cm\n",
    "x = 12 \n",
    "area =x**2\n",
    "print(\"Area of the square is:\", area)"
   ]
  },
  {
   "cell_type": "markdown",
   "id": "0c15704a",
   "metadata": {},
   "source": [
    "Calculate the average of five numbers.\n"
   ]
  },
  {
   "cell_type": "code",
   "execution_count": 110,
   "id": "ae66922d",
   "metadata": {},
   "outputs": [
    {
     "name": "stdout",
     "output_type": "stream",
     "text": [
      "Average of 10,11,21,23,25 is: 18.0\n"
     ]
    }
   ],
   "source": [
    "a = 10\n",
    "b = 11\n",
    "c = 21\n",
    "d = 23 \n",
    "e = 25\n",
    "sum = a + b + c + d + e \n",
    "average = sum / 5\n",
    "print(\"Average of 10,11,21,23,25 is:\", average)"
   ]
  },
  {
   "cell_type": "markdown",
   "id": "da3cde84",
   "metadata": {},
   "source": [
    "Create a variable with a boolean value and print its opposite value.\n"
   ]
  },
  {
   "cell_type": "code",
   "execution_count": 116,
   "id": "0bb430b5",
   "metadata": {},
   "outputs": [
    {
     "name": "stdout",
     "output_type": "stream",
     "text": [
      "Outcome is: True\n"
     ]
    }
   ],
   "source": [
    "x = 12\n",
    "y = 30\n",
    "value = x>y\n",
    "print(\"Outcome is:\", not value)"
   ]
  },
  {
   "cell_type": "markdown",
   "id": "d800b510",
   "metadata": {},
   "source": [
    "Store your birth year in a variable and calculate your age."
   ]
  },
  {
   "cell_type": "code",
   "execution_count": 120,
   "id": "94ac0a22",
   "metadata": {},
   "outputs": [
    {
     "name": "stdout",
     "output_type": "stream",
     "text": [
      "Age: 22\n"
     ]
    }
   ],
   "source": [
    "Birthyear = 2002\n",
    "Currentyear = 2024\n",
    "Age = Currentyear - Birthyear\n",
    "print(\"Age:\", Age)\n"
   ]
  },
  {
   "cell_type": "markdown",
   "id": "193bd0c7",
   "metadata": {},
   "source": [
    "Create a variable with an integer and convert it to a float."
   ]
  },
  {
   "cell_type": "code",
   "execution_count": 124,
   "id": "c862dfa4",
   "metadata": {},
   "outputs": [
    {
     "name": "stdout",
     "output_type": "stream",
     "text": [
      "Float value will be: 2024.0\n"
     ]
    }
   ],
   "source": [
    "integer_value = 2024\n",
    "float_value = float(integer_value)\n",
    "print(\"Float value will be:\", float_value)"
   ]
  },
  {
   "cell_type": "markdown",
   "id": "d6e985ae",
   "metadata": {},
   "source": [
    "Create a variable with a float and convert it to an integer."
   ]
  },
  {
   "cell_type": "code",
   "execution_count": 126,
   "id": "db782f94",
   "metadata": {},
   "outputs": [
    {
     "name": "stdout",
     "output_type": "stream",
     "text": [
      "Integer value of 202.4 is: 2024\n"
     ]
    }
   ],
   "source": [
    "float_value = 202.4\n",
    "interger_value = int(float_value)\n",
    "print(\"Integer value of 202.4 is:\",integer_value)"
   ]
  },
  {
   "cell_type": "markdown",
   "id": "03fbd24c",
   "metadata": {},
   "source": [
    "Create a variable with a string that represents an integer and convert it to an integer."
   ]
  },
  {
   "cell_type": "code",
   "execution_count": 132,
   "id": "15e98a9c",
   "metadata": {},
   "outputs": [
    {
     "name": "stdout",
     "output_type": "stream",
     "text": [
      "string_value: 2024\n",
      "string value after being converted to integer will be: 2024\n"
     ]
    }
   ],
   "source": [
    "string_value = \"2024\"\n",
    "integer_value = int(string_value)\n",
    "print(\"string_value:\", string_value)\n",
    "print(\"string value after being converted to integer will be:\", integer_value)"
   ]
  },
  {
   "cell_type": "markdown",
   "id": "7b82ee26",
   "metadata": {},
   "source": [
    "Create a variable with a string that represents a float and convert it to a float.\n"
   ]
  },
  {
   "cell_type": "code",
   "execution_count": 136,
   "id": "31b96ee5",
   "metadata": {},
   "outputs": [
    {
     "name": "stdout",
     "output_type": "stream",
     "text": [
      "string value: 234.5\n",
      "Float value: 234.5\n"
     ]
    }
   ],
   "source": [
    "string_value = \"234.5\"\n",
    "float_value = float(string_value)\n",
    "print(\"string value:\", string_value)\n",
    "print(\"Float value:\", float_value)"
   ]
  },
  {
   "cell_type": "code",
   "execution_count": null,
   "id": "59c47abe-92c2-4cf8-8b9c-e2b62e0636cf",
   "metadata": {},
   "outputs": [],
   "source": [
    "Create a variable with a number and convert it to a string."
   ]
  },
  {
   "cell_type": "code",
   "execution_count": 144,
   "id": "191ca6c0",
   "metadata": {},
   "outputs": [
    {
     "name": "stdout",
     "output_type": "stream",
     "text": [
      "number: 235\n",
      "string value: 235\n"
     ]
    }
   ],
   "source": [
    "number = 235\n",
    "string_value = str(number)\n",
    "print(\"number:\", number)\n",
    "print(\"string value:\", string_value)"
   ]
  },
  {
   "cell_type": "markdown",
   "id": "12030234",
   "metadata": {},
   "source": [
    "Calculate the absolute value of a number.\n",
    "\n"
   ]
  },
  {
   "cell_type": "code",
   "execution_count": 148,
   "id": "e6e2dbb2",
   "metadata": {},
   "outputs": [
    {
     "name": "stdout",
     "output_type": "stream",
     "text": [
      "Number: -1157\n",
      "absolute value: 1157\n"
     ]
    }
   ],
   "source": [
    "number = -1157\n",
    "absolute_value = abs(number)\n",
    "print(\"Number:\", number)\n",
    "print(\"absolute value:\", absolute_value)"
   ]
  },
  {
   "cell_type": "markdown",
   "id": "0bcb4315",
   "metadata": {},
   "source": [
    "Calculate the square root of a number.\n"
   ]
  },
  {
   "cell_type": "code",
   "execution_count": 168,
   "id": "1ffc86be",
   "metadata": {},
   "outputs": [
    {
     "name": "stdout",
     "output_type": "stream",
     "text": [
      "Number: 121\n",
      "Square root: 11.0\n"
     ]
    }
   ],
   "source": [
    "number = 121\n",
    "Square_root = 121**0.5\n",
    "print(\"Number:\", number)\n",
    "print(\"Square root:\", Square_root)"
   ]
  },
  {
   "cell_type": "markdown",
   "id": "3b8743eb",
   "metadata": {},
   "source": [
    "Calculate the value of a raised to the power of b.\n"
   ]
  },
  {
   "cell_type": "code",
   "execution_count": 170,
   "id": "d278563f",
   "metadata": {
    "collapsed": true,
    "jupyter": {
     "outputs_hidden": true
    }
   },
   "outputs": [
    {
     "name": "stdout",
     "output_type": "stream",
     "text": [
      "answer: 625\n"
     ]
    }
   ],
   "source": [
    "a = 25\n",
    "b = 2\n",
    "a_raised_to_power_of_b = a**b\n",
    "print(\"answer:\", a_raised_to_power_of_b)"
   ]
  },
  {
   "cell_type": "markdown",
   "id": "d06e7a77",
   "metadata": {},
   "source": [
    "Round a float to the nearest integer."
   ]
  },
  {
   "cell_type": "code",
   "execution_count": 192,
   "id": "2f5873c3",
   "metadata": {},
   "outputs": [
    {
     "name": "stdout",
     "output_type": "stream",
     "text": [
      "Float: 10.7\n",
      "Rounded number is: 11\n"
     ]
    }
   ],
   "source": [
    "float = 10.7 \n",
    "rounded_number = round(float)\n",
    "print(\"Float:\", float)\n",
    "print(\"Rounded number is:\", rounded_number)"
   ]
  },
  {
   "cell_type": "markdown",
   "id": "34f33237",
   "metadata": {},
   "source": [
    "Combine multiple conditions using logical operators and print the result."
   ]
  },
  {
   "cell_type": "code",
   "execution_count": 198,
   "id": "687d14b0",
   "metadata": {},
   "outputs": [
    {
     "name": "stdout",
     "output_type": "stream",
     "text": [
      "x > y is False\n",
      "x < y is True\n",
      "x == y is False\n",
      "x != y is True\n",
      "x >= y is False\n",
      "x <= y is True\n"
     ]
    }
   ],
   "source": [
    "x = 111\n",
    "y = 122\n",
    "\n",
    "#Output: x > y \n",
    "print('x > y is',x>y)\n",
    "\n",
    "# Output: x < y \n",
    "print('x < y is',x<y)\n",
    "\n",
    "# Output: x == y \n",
    "print('x == y is',x==y)\n",
    "\n",
    "# Output: x != y \n",
    "print('x != y is',x!=y)\n",
    "\n",
    "# Output: x >= y \n",
    "print('x >= y is',x>=y)\n",
    "\n",
    "# Output: x <= y \n",
    "print('x <= y is',x<=y)"
   ]
  },
  {
   "cell_type": "markdown",
   "id": "ab20128b",
   "metadata": {},
   "source": [
    "Generate a random number between 1 and 100.**(challenging)**\n"
   ]
  },
  {
   "cell_type": "code",
   "execution_count": 210,
   "id": "43ac553b",
   "metadata": {},
   "outputs": [
    {
     "name": "stdout",
     "output_type": "stream",
     "text": [
      "The random number is: 58\n"
     ]
    }
   ],
   "source": [
    "import random \n",
    "random_number = random.randint(1,100)\n",
    "print(\"The random number is:\", random_number)"
   ]
  },
  {
   "cell_type": "code",
   "execution_count": 206,
   "id": "08b1a18f",
   "metadata": {},
   "outputs": [
    {
     "name": "stdout",
     "output_type": "stream",
     "text": [
      "The random number between 1 - 100 is: 9\n"
     ]
    }
   ],
   "source": [
    "import random \n",
    "random_number = random.randint(1,100)\n",
    "print(\"The random number between 1 - 100 is:\", random_number)"
   ]
  }
 ],
 "metadata": {
  "kernelspec": {
   "display_name": "Python 3 (ipykernel)",
   "language": "python",
   "name": "python3"
  },
  "language_info": {
   "codemirror_mode": {
    "name": "ipython",
    "version": 3
   },
   "file_extension": ".py",
   "mimetype": "text/x-python",
   "name": "python",
   "nbconvert_exporter": "python",
   "pygments_lexer": "ipython3",
   "version": "3.12.7"
  }
 },
 "nbformat": 4,
 "nbformat_minor": 5
}
