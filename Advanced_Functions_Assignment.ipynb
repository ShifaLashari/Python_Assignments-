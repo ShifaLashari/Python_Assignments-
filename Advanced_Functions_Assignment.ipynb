{
 "cells": [
  {
   "cell_type": "markdown",
   "id": "3e75a2ff-4dab-4c16-9870-45b0fa9e21eb",
   "metadata": {},
   "source": [
    "<h1 align=\"center\" >Lambda Expression, Map, Filter, Reduce, Sorted, Zip Functions<h1>"
   ]
  },
  {
   "cell_type": "markdown",
   "id": "24ac0198-7d9a-4b3e-bbcf-103ceed18c01",
   "metadata": {},
   "source": [
    "<p>1. Write a lambda function that takes two numbers and returns their product.</p>\n",
    "<p>• Task: Use the lambda function to calculate the product of 5 and 6.</p>"
   ]
  },
  {
   "cell_type": "code",
   "execution_count": 8,
   "id": "6239f4e7-6a6a-4fe2-bb96-12cfb6b59e86",
   "metadata": {},
   "outputs": [
    {
     "name": "stdout",
     "output_type": "stream",
     "text": [
      "The product of 5 and 6 is: 30\n"
     ]
    }
   ],
   "source": [
    "product = lambda x, y: x * y\n",
    "\n",
    "# Calculate the product of 5 and 6 using the lambda function\n",
    "result = product(5, 6)\n",
    "\n",
    "print(\"The product of 5 and 6 is:\", result)"
   ]
  },
  {
   "cell_type": "markdown",
   "id": "79ca4777-d61f-4c25-b7ce-4cc5dd756ec7",
   "metadata": {},
   "source": [
    "<p>2. Use a lambda function to square each number in the list [2, 3, 4, 5].</p>\n",
    "<p>• Task: Use a map function along with the lambda expression.</p>"
   ]
  },
  {
   "cell_type": "code",
   "execution_count": 12,
   "id": "7c4aa583-dd36-4f62-b869-834bf50eb1a5",
   "metadata": {},
   "outputs": [
    {
     "name": "stdout",
     "output_type": "stream",
     "text": [
      "Is 10 even? True\n",
      "Is 15 even? False\n"
     ]
    }
   ],
   "source": [
    "is_even = lambda x: True if x % 2 == 0 else False\n",
    "\n",
    "# Test the function with 10\n",
    "print(f\"Is 10 even? {is_even(10)}\")  # Output: Is 10 even? True\n",
    "\n",
    "# Test the function with 15\n",
    "print(f\"Is 15 even? {is_even(15)}\")  # Output: Is 15 even? False"
   ]
  },
  {
   "cell_type": "markdown",
   "id": "72ecf68c-559f-4236-b8af-5bdc7dffabea",
   "metadata": {},
   "source": [
    "<p>3. Write a lambda function to check if a given string is a palindrome. Use it with a list of strings:\n",
    "[\"radar\", \"python\", \"level\", \"hello\"]</p>\n",
    "<p>• Task: Return a list of booleans indicating whether each string is a palindrome. </p>"
   ]
  },
  {
   "cell_type": "code",
   "execution_count": 15,
   "id": "eb65947b-1140-48da-b77b-be454f3a92cd",
   "metadata": {},
   "outputs": [
    {
     "name": "stdout",
     "output_type": "stream",
     "text": [
      "[True, False, True, False]\n"
     ]
    }
   ],
   "source": [
    "strings = [\"radar\", \"python\", \"level\", \"hello\"]\n",
    "\n",
    "# Define the lambda function to check for palindrome\n",
    "is_palindrome = lambda s: s == s[::-1]\n",
    "\n",
    "# Use map() to apply the lambda function to each string\n",
    "result = list(map(is_palindrome, strings))\n",
    "\n",
    "print(result)  # Output: [True, False, True, False]"
   ]
  },
  {
   "cell_type": "markdown",
   "id": "98838c55-745a-44c0-891f-bae21ee8b0ea",
   "metadata": {},
   "source": [
    "<p>5. Write a lambda function to find the maximum of two numbers. Use it to compare pairs of numbers from two\n",
    "lists:\n",
    "list1 = [3, 5, 8], list2 = [4, 7, 2].</p>\n",
    "<p>• Example Output: [4, 7, 8].</p>"
   ]
  },
  {
   "cell_type": "code",
   "execution_count": 23,
   "id": "fd8b055f-622c-4bac-b868-3522365e10c4",
   "metadata": {},
   "outputs": [
    {
     "name": "stdout",
     "output_type": "stream",
     "text": [
      "[4, 7, 8]\n"
     ]
    }
   ],
   "source": [
    "list1 = [3, 5, 8]\n",
    "list2 = [4, 7, 2]\n",
    "\n",
    "find_max = lambda x, y: x if x > y else y\n",
    "result = list(map(find_max, list1, list2))\n",
    "\n",
    "print(result)  # Output: [4, 7, 8]"
   ]
  },
  {
   "cell_type": "markdown",
   "id": "7bf4bcb2-1c5f-40d9-a889-776433e3fe68",
   "metadata": {},
   "source": [
    "<p>6. Write a lambda function that raises one number to the power of another.</p>\n",
    "<p>• Task: Use the lambda function to calculate powers for the pairs (2, 3), (3, 4), and (4, 2).</p>"
   ]
  },
  {
   "cell_type": "code",
   "execution_count": 30,
   "id": "febba725-a9bc-4ab4-b1fc-73fc377388ec",
   "metadata": {},
   "outputs": [
    {
     "name": "stdout",
     "output_type": "stream",
     "text": [
      "2 raised to the power of 3 is: 8\n",
      "3 raised to the power of 4 is: 81\n",
      "4 raised to the power of 2 is: 16\n"
     ]
    }
   ],
   "source": [
    "power = lambda x, y: x ** y\n",
    "result1 = power(2, 3)\n",
    "result2 = power(3, 4)  \n",
    "result3 = power(4, 2)  \n",
    "\n",
    "print(f\"2 raised to the power of 3 is: {result1}\")\n",
    "print(f\"3 raised to the power of 4 is: {result2}\")\n",
    "print(f\"4 raised to the power of 2 is: {result3}\")"
   ]
  },
  {
   "cell_type": "markdown",
   "id": "8b72f8cf-51cc-45e6-be79-da2c6fa0bcb3",
   "metadata": {},
   "source": [
    "<p>7. Write a program to filter all even numbers from the list [1, 2, 3, 4, 5, 6, 7, 8] using the filter function.</p>"
   ]
  },
  {
   "cell_type": "code",
   "execution_count": 32,
   "id": "eff7a58e-3bb6-4da2-acf2-5275f527faa1",
   "metadata": {},
   "outputs": [
    {
     "name": "stdout",
     "output_type": "stream",
     "text": [
      "Even numbers: [2, 4, 6, 8]\n"
     ]
    }
   ],
   "source": [
    "numbers = [1, 2, 3, 4, 5, 6, 7, 8]\n",
    "\n",
    "# Use filter() with a lambda function to filter even numbers\n",
    "even_numbers = list(filter(lambda x: x % 2 == 0, numbers))\n",
    "\n",
    "print(\"Even numbers:\", even_numbers) "
   ]
  },
  {
   "cell_type": "markdown",
   "id": "5d639017-c48d-4129-b7e7-ab2b8e2df847",
   "metadata": {},
   "source": [
    "<p>8. Given a list of words [\"apple\", \"banana\", \"cherry\", \"kiwi\", \"grape\"], write a program to filter out words that have\n",
    "more than 5 leters using the filter function.</p>"
   ]
  },
  {
   "cell_type": "code",
   "execution_count": 35,
   "id": "faec45f0-e0dd-4a45-9c61-d875f8d3fae8",
   "metadata": {},
   "outputs": [
    {
     "name": "stdout",
     "output_type": "stream",
     "text": [
      "Words with more than 5 letters: ['banana', 'cherry']\n"
     ]
    }
   ],
   "source": [
    "words = [\"apple\", \"banana\", \"cherry\", \"kiwi\", \"grape\"]\n",
    "filtered_words = list(filter(lambda word: len(word) > 5, words))\n",
    "\n",
    "print(\"Words with more than 5 letters:\", filtered_words) "
   ]
  },
  {
   "cell_type": "markdown",
   "id": "9595839a-b7f0-4b6c-b9fc-b1c657e2fc9f",
   "metadata": {},
   "source": [
    "<p>9. Write a program to filter prime numbers from the list [2, 3, 4, 5, 6, 7, 8, 9, 10] using the filter function and a\n",
    "helper function to check primality.</p>\n",
    "<p>Use a filter to extract all palindromic words from the list:</p>\n",
    "<p>[\"radar\", \"python\", \"madam\", \"java\", \"level\"].\n",
    "• Example Output: [\"radar\", \"madam\", \"level\"].</p>"
   ]
  },
  {
   "cell_type": "code",
   "execution_count": 38,
   "id": "8f0d01b3-e5a7-4fac-b0a6-1a7c9501a3db",
   "metadata": {},
   "outputs": [
    {
     "name": "stdout",
     "output_type": "stream",
     "text": [
      "Prime numbers: [2, 3, 5, 7]\n",
      "Palindromic words: ['radar', 'madam', 'level']\n"
     ]
    }
   ],
   "source": [
    "def is_prime(n):\n",
    "    \"\"\"Checks if a given number is prime.\"\"\"\n",
    "    if n <= 1:\n",
    "        return False\n",
    "    for i in range(2, int(n**0.5) + 1):\n",
    "        if n % i == 0:\n",
    "            return False\n",
    "    return True\n",
    "\n",
    "# List of numbers\n",
    "numbers = [2, 3, 4, 5, 6, 7, 8, 9, 10]\n",
    "\n",
    "# Use filter() with the is_prime() helper function\n",
    "prime_numbers = list(filter(is_prime, numbers))\n",
    "\n",
    "print(\"Prime numbers:\", prime_numbers)  \n",
    "\n",
    "# List of words\n",
    "words = [\"radar\", \"python\", \"madam\", \"java\", \"level\"]\n",
    "\n",
    "# Use filter() with a lambda function to check for palindromes\n",
    "palindromes = list(filter(lambda word: word == word[::-1], words))\n",
    "\n",
    "print(\"Palindromic words:\", palindromes)"
   ]
  },
  {
   "cell_type": "markdown",
   "id": "d0274755-5a99-4457-b7cc-7aed8b51b4af",
   "metadata": {},
   "source": [
    "<p>10. Use the filter function to extract all numbers greater than 50 from the list: [10, 55, 20, 75, 40, 95].</p>"
   ]
  },
  {
   "cell_type": "code",
   "execution_count": 41,
   "id": "0956faac-f2c9-43c4-a9c4-e13cf2dec9a8",
   "metadata": {},
   "outputs": [
    {
     "name": "stdout",
     "output_type": "stream",
     "text": [
      "Numbers greater than 50: [55, 75, 95]\n"
     ]
    }
   ],
   "source": [
    "numbers = [10, 55, 20, 75, 40, 95]\n",
    "\n",
    "# Use filter() to extract numbers greater than 50\n",
    "filtered_numbers = list(filter(lambda x: x > 50, numbers))\n",
    "\n",
    "print(\"Numbers greater than 50:\", filtered_numbers)"
   ]
  },
  {
   "cell_type": "markdown",
   "id": "a54379e0-6d3a-411b-bded-650b360101b9",
   "metadata": {},
   "source": [
    "<p>11. Use the reduce function to calculate the sum of all numbers in the list [10, 20, 30, 40].</p>"
   ]
  },
  {
   "cell_type": "code",
   "execution_count": 44,
   "id": "5a743d0c-f5df-43d2-ac7d-8f0f01c9d1bd",
   "metadata": {},
   "outputs": [
    {
     "name": "stdout",
     "output_type": "stream",
     "text": [
      "Sum of numbers: 100\n"
     ]
    }
   ],
   "source": [
    "from functools import reduce\n",
    "\n",
    "numbers = [10, 20, 30, 40]\n",
    "\n",
    "# Use reduce() to calculate the sum of all numbers\n",
    "sum_of_numbers = reduce(lambda x, y: x + y, numbers)\n",
    "\n",
    "print(\"Sum of numbers:\", sum_of_numbers) "
   ]
  },
  {
   "cell_type": "markdown",
   "id": "f3ae4b0a-4168-44b2-a71a-cb6b887d97d2",
   "metadata": {},
   "source": [
    "<p>12. Write a program using the reduce function to find the largest number in the list [3, 5, 2, 8, 6].</p>"
   ]
  },
  {
   "cell_type": "code",
   "execution_count": 47,
   "id": "7cb08bfa-7776-4220-a534-b7b6aca96d7c",
   "metadata": {},
   "outputs": [
    {
     "name": "stdout",
     "output_type": "stream",
     "text": [
      "Largest number: 8\n"
     ]
    }
   ],
   "source": [
    "from functools import reduce\n",
    "\n",
    "numbers = [3, 5, 2, 8, 6]\n",
    "\n",
    "# Use reduce() to find the largest number\n",
    "largest_number = reduce(lambda x, y: x if x > y else y, numbers)\n",
    "\n",
    "print(\"Largest number:\", largest_number) "
   ]
  },
  {
   "cell_type": "markdown",
   "id": "b2b86058-9b41-4c80-861c-3eca57bfbfb1",
   "metadata": {},
   "source": [
    "<p>13. Use the reduce function to calculate the product of all numbers in the list: [2, 3, 4, 5].</p>"
   ]
  },
  {
   "cell_type": "code",
   "execution_count": 53,
   "id": "7c77c8c1-3124-4b79-9c68-576c268373d2",
   "metadata": {},
   "outputs": [
    {
     "name": "stdout",
     "output_type": "stream",
     "text": [
      "Product of numbers: 120\n"
     ]
    }
   ],
   "source": [
    "from functools import reduce\n",
    "\n",
    "numbers = [2, 3, 4, 5]\n",
    "\n",
    "product_of_numbers = reduce(lambda x, y: x * y, numbers)\n",
    "\n",
    "print(\"Product of numbers:\", product_of_numbers) "
   ]
  },
  {
   "cell_type": "markdown",
   "id": "71ed3ad0-a94c-4ec4-b843-6b999d05e5cb",
   "metadata": {},
   "source": [
    "<p>14. Use the reduce function to find the longest string in the list: [\"apple\", \"banana\", \"cherry\", \"kiwi\"].</p>"
   ]
  },
  {
   "cell_type": "code",
   "execution_count": 55,
   "id": "9dbd2fa6-7526-4b7a-9e28-a9f212b3a110",
   "metadata": {},
   "outputs": [
    {
     "name": "stdout",
     "output_type": "stream",
     "text": [
      "Longest string: banana\n"
     ]
    }
   ],
   "source": [
    "from functools import reduce\n",
    "words = [\"apple\", \"banana\", \"cherry\", \"kiwi\"]\n",
    "longest_string = reduce(lambda x, y: x if len(x) >= len(y) else y, words)\n",
    "print(\"Longest string:\", longest_string) "
   ]
  },
  {
   "cell_type": "markdown",
   "id": "5ee7d573-43b8-4b62-8a54-d356ee6a5fb0",
   "metadata": {},
   "source": [
    "<p>15. Write a program to count the total number of vowels in the list of strings:\n",
    "[\"hello\", \"world\", \"python\", \"programming\"] using the reduce function.</p>"
   ]
  },
  {
   "cell_type": "code",
   "execution_count": 59,
   "id": "e71fba29-543c-4996-9c87-451d78e6d80f",
   "metadata": {},
   "outputs": [
    {
     "name": "stdout",
     "output_type": "stream",
     "text": [
      "Total number of vowels: 7\n"
     ]
    }
   ],
   "source": [
    "from functools import reduce\n",
    "\n",
    "def count_vowels(word):\n",
    "  \"\"\" Counts the number of vowels in a given word.\"\"\"\n",
    "  vowels = \"aeiouAEIOU\"\n",
    "  return sum(1 for char in word if char in vowels)\n",
    "\n",
    "words = [\"hello\", \"world\", \"python\", \"programming\"]\n",
    "\n",
    "total_vowels = reduce(lambda count, word: count + count_vowels(word), words, 0)\n",
    "\n",
    "print(\"Total number of vowels:\", total_vowels)  "
   ]
  },
  {
   "cell_type": "markdown",
   "id": "43acc327-54d1-43aa-a9b7-ebec9a31f47f",
   "metadata": {},
   "source": [
    "<p>16. Given a list of strings [\"elephant\", \"cat\", \"tiger\", \"dog\", \"zebra\"], write a program to sort the list by the\n",
    "length of the strings using the sorted function and a lambda expression.</p>"
   ]
  },
  {
   "cell_type": "code",
   "execution_count": 64,
   "id": "eaa3a03c-131d-4499-9d1e-bec3b4506a6c",
   "metadata": {},
   "outputs": [
    {
     "name": "stdout",
     "output_type": "stream",
     "text": [
      "['cat', 'dog', 'tiger', 'zebra', 'elephant']\n"
     ]
    }
   ],
   "source": [
    "strings = [\"elephant\", \"cat\", \"tiger\", \"dog\", \"zebra\"]\n",
    "\n",
    "\n",
    "sorted_strings = sorted(strings, key=lambda x: len(x))\n",
    "\n",
    "print(sorted_strings)  "
   ]
  },
  {
   "cell_type": "markdown",
   "id": "bebbf136-0ee0-4f21-af6e-d2eddc4dfe4a",
   "metadata": {},
   "source": [
    "<p>17. Write a program to sort the dictionary {'a': 3, 'b': 1, 'c': 2} by its values in ascending order using the\n",
    "sorted function.</p>"
   ]
  },
  {
   "cell_type": "code",
   "execution_count": 67,
   "id": "f5898fa1-0dcb-44aa-a953-68f6cda0eeb4",
   "metadata": {},
   "outputs": [
    {
     "name": "stdout",
     "output_type": "stream",
     "text": [
      "{'b': 1, 'c': 2, 'a': 3}\n"
     ]
    }
   ],
   "source": [
    "my_dict = {'a': 3, 'b': 1, 'c': 2}\n",
    "\n",
    "# Sort the dictionary by values in ascending order\n",
    "sorted_dict = dict(sorted(my_dict.items(), key=lambda item: item[1]))\n",
    "\n",
    "print(sorted_dict)  "
   ]
  },
  {
   "cell_type": "markdown",
   "id": "92aecd25-3176-431c-8f13-60cccf110c5f",
   "metadata": {},
   "source": [
    "<p>18. Use the sorted function to sort the list of strings based on their last character:\n",
    "[\"apple\", \"banana\", \"cherry\", \"date\"].</p>"
   ]
  },
  {
   "cell_type": "code",
   "execution_count": 71,
   "id": "1e99c313-e4c2-45ef-99d4-f8605705e9fc",
   "metadata": {},
   "outputs": [
    {
     "name": "stdout",
     "output_type": "stream",
     "text": [
      "['banana', 'apple', 'date', 'cherry']\n"
     ]
    }
   ],
   "source": [
    "strings = [\"apple\", \"banana\", \"cherry\", \"date\"]\n",
    "\n",
    "# Sort the list of strings based on their last character\n",
    "sorted_strings = sorted(strings, key=lambda x: x[-1])\n",
    "\n",
    "print(sorted_strings) "
   ]
  },
  {
   "cell_type": "markdown",
   "id": "842e72de-c2ee-428f-a517-2f23ad75dc2d",
   "metadata": {},
   "source": [
    "<p>19. Given a list of tuples: [(1, 3), (4, 2), (5, 1)], use the sorted function to sort it by the second element in\n",
    "each tuple.</p>"
   ]
  },
  {
   "cell_type": "code",
   "execution_count": 74,
   "id": "2c3cd63b-5c7d-4985-9376-41fe84fadcc5",
   "metadata": {},
   "outputs": [
    {
     "name": "stdout",
     "output_type": "stream",
     "text": [
      "[(5, 1), (4, 2), (1, 3)]\n"
     ]
    }
   ],
   "source": [
    "tuples = [(1, 3), (4, 2), (5, 1)]\n",
    "\n",
    "# Sort the list of tuples by the second element\n",
    "sorted_tuples = sorted(tuples, key=lambda x: x[1])\n",
    "\n",
    "print(sorted_tuples)  "
   ]
  },
  {
   "cell_type": "markdown",
   "id": "d74cd1b2-02e4-4975-b395-ac6b2ce17ffd",
   "metadata": {},
   "source": [
    "<p>20. Given two lists:</p>\n",
    "<p>names = [\"Alice\", \"Bob\", \"Charlie\"]</p>\n",
    "<p>scores = [85, 92, 78]</p>\n",
    "<p>Use the zip function to create a list of tuples pairing names with their scores.</p>\n",
    "<p>o Task: Print the result.</p>"
   ]
  },
  {
   "cell_type": "code",
   "execution_count": 79,
   "id": "926251f3-bc47-4039-9293-945609fbe97c",
   "metadata": {},
   "outputs": [
    {
     "name": "stdout",
     "output_type": "stream",
     "text": [
      "[('Alice', 85), ('Bob', 92), ('Charlie', 78)]\n"
     ]
    }
   ],
   "source": [
    "names = [\"Alice\", \"Bob\", \"Charlie\"]\n",
    "scores = [85, 92, 78]\n",
    "\n",
    "# Use zip() to create a list of tuples pairing names with their scores\n",
    "name_score_pairs = list(zip(names, scores))\n",
    "\n",
    "print(name_score_pairs) "
   ]
  },
  {
   "cell_type": "markdown",
   "id": "9262fd94-1e6e-476b-ad17-737819155cef",
   "metadata": {},
   "source": [
    "<p>21. Given two lists:</p>\n",
    "<p>keys = [\"name\", \"age\", \"city\"]</p>\n",
    "<p>values = [\"Alice\", 25, \"New York\"].</p>\n",
    "<p>• Task: Use the zip function to create a dictionary from these two lists.</p>"
   ]
  },
  {
   "cell_type": "code",
   "execution_count": 85,
   "id": "b6c7f880-a4e0-4f22-b45a-fe536c433cd5",
   "metadata": {},
   "outputs": [
    {
     "name": "stdout",
     "output_type": "stream",
     "text": [
      "{'name': 'Alice', 'age': 25, 'city': 'New York'}\n"
     ]
    }
   ],
   "source": [
    "keys = [\"name\", \"age\", \"city\"]\n",
    "values = [\"Alice\", 25, \"New York\"]\n",
    "\n",
    "# Use zip() to create a dictionary\n",
    "my_dict = dict(zip(keys, values))\n",
    "\n",
    "print(my_dict)  "
   ]
  },
  {
   "cell_type": "markdown",
   "id": "331ca767-a914-4019-89a1-c51a8eeaf911",
   "metadata": {},
   "source": [
    "<p>22. Given a list of lowercase words [\"python\", \"java\", \"c++\", \"ruby\"], write a program to use the map\n",
    "function to capitalize the first letter of each word.</p>\n",
    "<p>• Task: Use str.capitalize with map to transform the list.</p>"
   ]
  },
  {
   "cell_type": "code",
   "execution_count": 88,
   "id": "b3fe9033-48c6-4c91-8307-089951e51004",
   "metadata": {},
   "outputs": [
    {
     "name": "stdout",
     "output_type": "stream",
     "text": [
      "['Python', 'Java', 'C++', 'Ruby']\n"
     ]
    }
   ],
   "source": [
    "words = [\"python\", \"java\", \"c++\", \"ruby\"]\n",
    "capitalized_words = list(map(str.capitalize, words))\n",
    "\n",
    "print(capitalized_words) "
   ]
  },
  {
   "cell_type": "markdown",
   "id": "6ec3cf07-fa42-449d-a6d4-0ffc9e1d4399",
   "metadata": {},
   "source": [
    "<p>23. Use the map function to calculate the length of each word in the list:\n",
    "[\"apple\", \"banana\", \"cherry\", \"date\"].</p>"
   ]
  },
  {
   "cell_type": "code",
   "execution_count": 91,
   "id": "3f19b920-df9f-4443-95e7-5ff54fae5d9b",
   "metadata": {},
   "outputs": [
    {
     "name": "stdout",
     "output_type": "stream",
     "text": [
      "[5, 6, 6, 4]\n"
     ]
    }
   ],
   "source": [
    "words = [\"apple\", \"banana\", \"cherry\", \"date\"]\n",
    "\n",
    "# Use map() to calculate the length of each word\n",
    "word_lengths = list(map(len, words))\n",
    "\n",
    "print(word_lengths) "
   ]
  },
  {
   "cell_type": "markdown",
   "id": "481e321d-c438-481f-be94-953505122d5c",
   "metadata": {},
   "source": [
    "<P>24. Given two lists:</p>\n",
    "<p>list1 = [\"Hello\", \"Good\"], list2 = [\"World\", \"Morning\"].</p>\n",
    "<p>• Task: Use map to concatenate the corresponding elements of both lists.</P>"
   ]
  },
  {
   "cell_type": "code",
   "execution_count": 94,
   "id": "b174b3c3-2ef8-4b31-b263-be384e65e5a4",
   "metadata": {},
   "outputs": [
    {
     "name": "stdout",
     "output_type": "stream",
     "text": [
      "['Hello World', 'Good Morning']\n"
     ]
    }
   ],
   "source": [
    "list1 = [\"Hello\", \"Good\"]\n",
    "list2 = [\"World\", \"Morning\"]\n",
    "concatenated_list = list(map(lambda x, y: x + \" \" + y, list1, list2))\n",
    "\n",
    "print(concatenated_list)  "
   ]
  },
  {
   "cell_type": "markdown",
   "id": "c7c14a75-09b3-41b3-ad63-e520fec95e87",
   "metadata": {},
   "source": [
    "<p>25. Write a program to use map to find the absolute value of each number in the list:\n",
    "[-10, 15, -20, 30].</p>"
   ]
  },
  {
   "cell_type": "code",
   "execution_count": 97,
   "id": "1ffc56aa-4801-4515-a716-fc582d8380ef",
   "metadata": {},
   "outputs": [
    {
     "name": "stdout",
     "output_type": "stream",
     "text": [
      "[10, 15, 20, 30]\n"
     ]
    }
   ],
   "source": [
    "numbers = [-10, 15, -20, 30] \n",
    "absolute_values = list(map(abs, numbers))\n",
    "print(absolute_values)  "
   ]
  }
 ],
 "metadata": {
  "kernelspec": {
   "display_name": "Python 3 (ipykernel)",
   "language": "python",
   "name": "python3"
  },
  "language_info": {
   "codemirror_mode": {
    "name": "ipython",
    "version": 3
   },
   "file_extension": ".py",
   "mimetype": "text/x-python",
   "name": "python",
   "nbconvert_exporter": "python",
   "pygments_lexer": "ipython3",
   "version": "3.12.7"
  }
 },
 "nbformat": 4,
 "nbformat_minor": 5
}
