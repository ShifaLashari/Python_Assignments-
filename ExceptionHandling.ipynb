{
 "cells": [
  {
   "cell_type": "markdown",
   "id": "dd37745c-d984-47d4-8eb2-5ee5bb21e80b",
   "metadata": {},
   "source": [
    "<h1 align=\"center\">EXCEPTION HANDLING</h1>"
   ]
  },
  {
   "cell_type": "markdown",
   "id": "1b61bc35-1b52-4ad1-9358-38dd898375e6",
   "metadata": {},
   "source": [
    "<p>1. Write a Python program that uses try-except to handle division by zero. Prompt the user to input two\n",
    "numbers and divide them, printing an appropriate message if an exception occurs.</p>\n"
   ]
  },
  {
   "cell_type": "code",
   "execution_count": 11,
   "id": "1e75053f-0127-4736-b1cb-55ae0b1c8295",
   "metadata": {},
   "outputs": [
    {
     "name": "stdin",
     "output_type": "stream",
     "text": [
      "Enter the first number:  9\n",
      "Enter the second number:  2\n"
     ]
    },
    {
     "name": "stdout",
     "output_type": "stream",
     "text": [
      "The result of 9.0 divided by 2.0 is: 4.5\n"
     ]
    }
   ],
   "source": [
    "def divide_numbers():\n",
    "  \"\"\"Prompts the user for two numbers and divides them.\n",
    "\n",
    "  Handles potential ZeroDivisionError with a user-friendly message.\n",
    "  \"\"\"\n",
    "  try:\n",
    "    num1 = float(input(\"Enter the first number: \"))\n",
    "    num2 = float(input(\"Enter the second number: \"))\n",
    "    result = num1 / num2\n",
    "    print(f\"The result of {num1} divided by {num2} is: {result}\")\n",
    "\n",
    "  except ZeroDivisionError:\n",
    "    print(\"Error: Division by zero is not allowed.\")\n",
    "\n",
    "if __name__ == \"__main__\":\n",
    "  divide_numbers()"
   ]
  },
  {
   "cell_type": "markdown",
   "id": "e9d8d6aa-16bf-42a8-ac79-163129a7dbed",
   "metadata": {},
   "source": [
    "<p>2. Create a program that handles a ValueError when the user enters non-integer input. Ask the user for\n",
    "their age and validate it.</p>"
   ]
  },
  {
   "cell_type": "code",
   "execution_count": 14,
   "id": "592168d8-32e1-4144-92b2-9f9c4420a3dc",
   "metadata": {},
   "outputs": [
    {
     "name": "stdin",
     "output_type": "stream",
     "text": [
      "Enter your age:  22\n"
     ]
    },
    {
     "name": "stdout",
     "output_type": "stream",
     "text": [
      "Your age is: 22\n"
     ]
    }
   ],
   "source": [
    "def get_validated_age():\n",
    "  \"\"\"Prompts the user for their age and validates it.\n",
    "\n",
    "  Handles ValueError if non-integer input is provided.\n",
    "  \"\"\"\n",
    "  while True:\n",
    "    try:\n",
    "      age = int(input(\"Enter your age: \"))\n",
    "      if age < 0:\n",
    "        raise ValueError(\"Age cannot be negative.\")\n",
    "      return age\n",
    "    except ValueError as e:\n",
    "      print(f\"Invalid input. {e}. Please enter a whole number.\")\n",
    "\n",
    "if __name__ == \"__main__\":\n",
    "  valid_age = get_validated_age()\n",
    "  print(f\"Your age is: {valid_age}\")"
   ]
  },
  {
   "cell_type": "markdown",
   "id": "04e3d146-d3c6-455b-b4b0-1ed1ff1db72b",
   "metadata": {},
   "source": [
    "<p>3. Develop a program to handle multiple exceptions (ZeroDivisionError and TypeError) in a single try-\n",
    "except block. Use appropriate error messages.</p>"
   ]
  },
  {
   "cell_type": "code",
   "execution_count": 17,
   "id": "00b90bd4-feb5-4247-9c8d-8b5d2360b0bf",
   "metadata": {},
   "outputs": [
    {
     "name": "stdin",
     "output_type": "stream",
     "text": [
      "Enter the first number:  211\n",
      "Enter the second number:  11\n"
     ]
    },
    {
     "name": "stdout",
     "output_type": "stream",
     "text": [
      "The result is: 19.181818181818183\n"
     ]
    }
   ],
   "source": [
    "def perform_operation(num1, num2):\n",
    "  \"\"\"Performs division and handles ZeroDivisionError and TypeError.\n",
    "\n",
    "  Args:\n",
    "    num1: The first number.\n",
    "    num2: The second number.\n",
    "\n",
    "  Returns:\n",
    "    The result of the division if successful, otherwise an error message.\n",
    "  \"\"\"\n",
    "  try:\n",
    "    result = num1 / num2\n",
    "    return result\n",
    "  except ZeroDivisionError:\n",
    "    return \"Error: Division by zero is not allowed.\"\n",
    "  except TypeError:\n",
    "    return \"Error: Invalid data type for operands. Please use numbers.\"\n",
    "\n",
    "if __name__ == \"__main__\":\n",
    "  try:\n",
    "    num1 = int(input(\"Enter the first number: \"))\n",
    "    num2 = int(input(\"Enter the second number: \"))\n",
    "    result = perform_operation(num1, num2)\n",
    "    print(f\"The result is: {result}\")\n",
    "  except ValueError:\n",
    "    print(\"Error: Invalid input. Please enter integers.\")"
   ]
  },
  {
   "cell_type": "markdown",
   "id": "7144d762-9bdb-4c45-89b0-f185f175cf0c",
   "metadata": {},
   "source": [
    "<p>4. Write a Python script that uses try-except to handle an exception when trying to access an index in a\n",
    "list that doesn’t exist.</p>"
   ]
  },
  {
   "cell_type": "code",
   "execution_count": 20,
   "id": "c3097f38-71da-4dcc-977d-8ff619e828f3",
   "metadata": {},
   "outputs": [
    {
     "name": "stdin",
     "output_type": "stream",
     "text": [
      "Enter the index to access:  2\n"
     ]
    },
    {
     "name": "stdout",
     "output_type": "stream",
     "text": [
      "30\n"
     ]
    }
   ],
   "source": [
    "def safe_list_access(my_list, index):\n",
    "  \"\"\"Safely accesses an element in a list.\n",
    "\n",
    "  Args:\n",
    "    my_list: The list to access.\n",
    "    index: The index of the element to access.\n",
    "\n",
    "  Returns:\n",
    "    The element at the given index if it exists, otherwise an error message.\n",
    "  \"\"\"\n",
    "  try:\n",
    "    return my_list[index]\n",
    "  except IndexError:\n",
    "    return f\"Index {index} is out of range for list {my_list}.\"\n",
    "\n",
    "if __name__ == \"__main__\":\n",
    "  my_list = [10, 20, 30]\n",
    "  index = int(input(\"Enter the index to access: \"))\n",
    "\n",
    "  element = safe_list_access(my_list, index)\n",
    "  print(element)"
   ]
  },
  {
   "cell_type": "markdown",
   "id": "4e792909-2c7c-4b77-aea6-7c3482d42d61",
   "metadata": {},
   "source": [
    "<p>5. Write a script that opens a file for reading. Use try-except to handle the FileNotFoundError if the file\n",
    "does not exist.</p>"
   ]
  },
  {
   "cell_type": "code",
   "execution_count": 23,
   "id": "6707932f-aa5b-4726-88bd-259d8eedbdb8",
   "metadata": {},
   "outputs": [
    {
     "name": "stdin",
     "output_type": "stream",
     "text": [
      "Enter the filename:  task 1\n"
     ]
    },
    {
     "name": "stdout",
     "output_type": "stream",
     "text": [
      "Error: File 'task 1' not found.\n"
     ]
    }
   ],
   "source": [
    "def read_file_contents(filename):\n",
    "  \"\"\"Reads the contents of a file.\n",
    "\n",
    "  Args:\n",
    "    filename: The name of the file to read.\n",
    "\n",
    "  Returns:\n",
    "    The contents of the file if it exists, otherwise an error message.\n",
    "  \"\"\"\n",
    "  try:\n",
    "    with open(filename, 'r') as file:\n",
    "      contents = file.read()\n",
    "      return contents\n",
    "  except FileNotFoundError:\n",
    "    return f\"Error: File '{filename}' not found.\"\n",
    "\n",
    "if __name__ == \"__main__\":\n",
    "  filename = input(\"Enter the filename: \")\n",
    "  file_contents = read_file_contents(filename)\n",
    "  print(file_contents)"
   ]
  },
  {
   "cell_type": "markdown",
   "id": "7fc8e41d-f10d-4b52-afa6-eecf9258b48c",
   "metadata": {},
   "source": [
    "<p>6. Write a Python script using try-except-else to check if a number is divisible by 2. If no\n",
    "exception occurs, print the result in the else block.</p>"
   ]
  },
  {
   "cell_type": "code",
   "execution_count": 28,
   "id": "21bf47a5-a900-49f6-a44c-b6e30e02aeba",
   "metadata": {},
   "outputs": [
    {
     "name": "stdin",
     "output_type": "stream",
     "text": [
      "Enter a number:  45t\n"
     ]
    },
    {
     "name": "stdout",
     "output_type": "stream",
     "text": [
      "Error: Invalid input. Please enter an integer.\n"
     ]
    }
   ],
   "source": [
    "def is_divisible_by_two(number):\n",
    "  \"\"\"Checks if a number is divisible by 2.\n",
    "\n",
    "  Args:\n",
    "    number: The number to check.\n",
    "\n",
    "  Returns:\n",
    "    True if the number is divisible by 2, False otherwise.\n",
    "  \"\"\"\n",
    "  try:\n",
    "    result = number / 2\n",
    "  except TypeError:\n",
    "    return \"Error: Input must be a number.\"\n",
    "  else:\n",
    "    return True\n",
    "\n",
    "if __name__ == \"__main__\":\n",
    "  try:\n",
    "    num = int(input(\"Enter a number: \"))\n",
    "    result = is_divisible_by_two(num)\n",
    "    if result is True:\n",
    "      print(f\"{num} is divisible by 2.\")\n",
    "    else:\n",
    "      print(f\"{num} is not divisible by 2.\")\n",
    "  except ValueError:\n",
    "    print(\"Error: Invalid input. Please enter an integer.\")"
   ]
  },
  {
   "cell_type": "markdown",
   "id": "67f56eb4-43de-46ae-a09f-d18c552c78f9",
   "metadata": {},
   "source": [
    "<p>7. Implement a program that takes a dictionary as input and handles the KeyError exception when trying\n",
    "to access a key that doesn’t exist.</p>"
   ]
  },
  {
   "cell_type": "code",
   "execution_count": 47,
   "id": "fc00e30b-324f-4dc5-96c2-766776b6c85c",
   "metadata": {},
   "outputs": [
    {
     "name": "stdin",
     "output_type": "stream",
     "text": [
      "Enter the key to access:  age\n"
     ]
    },
    {
     "name": "stdout",
     "output_type": "stream",
     "text": [
      "30\n"
     ]
    }
   ],
   "source": [
    "def safe_dict_access(my_dict, key):\n",
    "  \"\"\"Safely accesses a value in a dictionary.\n",
    "\n",
    "  Args:\n",
    "    my_dict: The dictionary to access.\n",
    "    key: The key to look for.\n",
    "\n",
    "  Returns:\n",
    "    The value associated with the key if it exists, otherwise an error message.\n",
    "  \"\"\"\n",
    "  try:\n",
    "    return my_dict[key]\n",
    "  except KeyError:\n",
    "    return f\"Key '{key}' not found in the dictionary.\"\n",
    "\n",
    "if __name__ == \"__main__\":\n",
    "  my_dict = {'name': 'Alice', 'age': 30, 'city': 'New York'}\n",
    "  key = input(\"Enter the key to access: \")\n",
    "\n",
    "  value = safe_dict_access(my_dict, key)\n",
    "  print(value)"
   ]
  },
  {
   "cell_type": "markdown",
   "id": "8e76a550-75c0-4757-b745-b6c624e4e5b6",
   "metadata": {},
   "source": [
    "<p>8. Develop a program that raises a custom exception if the user inputs a negative number. Use try-except\n",
    "to catch the exception and print an appropriate message.</p>"
   ]
  },
  {
   "cell_type": "code",
   "execution_count": 52,
   "id": "797a6478-a44f-4db8-b569-e9dd2a825025",
   "metadata": {},
   "outputs": [
    {
     "name": "stdin",
     "output_type": "stream",
     "text": [
      "Enter a positive number:  -34\n"
     ]
    },
    {
     "name": "stdout",
     "output_type": "stream",
     "text": [
      "Error: Input cannot be negative.\n"
     ]
    },
    {
     "name": "stdin",
     "output_type": "stream",
     "text": [
      "Enter a positive number:  23.5\n"
     ]
    },
    {
     "name": "stdout",
     "output_type": "stream",
     "text": [
      "Error: Invalid input. Please enter an integer.\n"
     ]
    },
    {
     "name": "stdin",
     "output_type": "stream",
     "text": [
      "Enter a positive number:  45\n"
     ]
    },
    {
     "name": "stdout",
     "output_type": "stream",
     "text": [
      "You entered: 45\n"
     ]
    }
   ],
   "source": [
    "class NegativeNumberError(Exception):\n",
    "  \"\"\"Custom exception for negative numbers.\"\"\"\n",
    "  pass\n",
    "\n",
    "def get_positive_number():\n",
    "  \"\"\"Prompts the user for a positive number.\n",
    "\n",
    "  Raises:\n",
    "    NegativeNumberError: If the user inputs a negative number.\n",
    "\n",
    "  Returns:\n",
    "    The positive number entered by the user.\n",
    "  \"\"\"\n",
    "  while True:\n",
    "    try:\n",
    "      num = int(input(\"Enter a positive number: \"))\n",
    "      if num < 0:\n",
    "        raise NegativeNumberError(\"Input cannot be negative.\")\n",
    "      return num\n",
    "    except ValueError:\n",
    "      print(\"Error: Invalid input. Please enter an integer.\")\n",
    "    except NegativeNumberError as e:\n",
    "      print(f\"Error: {e}\")\n",
    "\n",
    "if __name__ == \"__main__\":\n",
    "  try:\n",
    "    positive_num = get_positive_number()\n",
    "    print(f\"You entered: {positive_num}\")\n",
    "  except KeyboardInterrupt:\n",
    "    print(\"\\nProgram interrupted by user.\")"
   ]
  },
  {
   "cell_type": "markdown",
   "id": "a36cc134-2457-4efc-b72e-9c09a872259e",
   "metadata": {},
   "source": [
    "<p>9. Write a program that calculates the square root of a user-provided number. Use try-except-else-finally\n",
    "to handle the following:</p>\n",
    "\n",
    "<p>• ValueError if the user provides invalid input.</p>\n",
    "<p>• else to print the square root if no error occurs.</p>\n",
    "<p>• finally to print a \"Done\" message.</p>"
   ]
  },
  {
   "cell_type": "code",
   "execution_count": 59,
   "id": "44ac32eb-3937-4dbe-8d94-d241576f0574",
   "metadata": {},
   "outputs": [
    {
     "name": "stdin",
     "output_type": "stream",
     "text": [
      "Enter a number:  242\n"
     ]
    },
    {
     "name": "stdout",
     "output_type": "stream",
     "text": [
      "The square root of 242.0 is: 15.556349186104045\n",
      "Done.\n"
     ]
    }
   ],
   "source": [
    "import math\n",
    "\n",
    "def calculate_square_root():\n",
    "  \"\"\"Calculates the square root of a user-provided number.\"\"\"\n",
    "  try:\n",
    "    num = float(input(\"Enter a number: \"))\n",
    "    if num < 0:\n",
    "      raise ValueError(\"Number cannot be negative.\")\n",
    "    sqrt = math.sqrt(num)\n",
    "  except ValueError as e:\n",
    "    print(f\"Error: {e}\")\n",
    "  else:\n",
    "    print(f\"The square root of {num} is: {sqrt}\")\n",
    "  finally:\n",
    "    print(\"Done.\")\n",
    "\n",
    "if __name__ == \"__main__\":\n",
    "  calculate_square_root()"
   ]
  },
  {
   "cell_type": "markdown",
   "id": "10722883-798f-4baf-b9aa-1f85e5b55fe5",
   "metadata": {},
   "source": [
    "<p>10. Implement a program that uses nested try-except blocks to handle different types of errors (e.g.,\n",
    "ZeroDivisionError and FileNotFoundError). Demonstrate how nested handling works.</p>"
   ]
  },
  {
   "cell_type": "code",
   "execution_count": 61,
   "id": "8c59ff38-0ce0-4fea-8520-29dfe4a6fa27",
   "metadata": {},
   "outputs": [
    {
     "name": "stdin",
     "output_type": "stream",
     "text": [
      "Enter the filename:  RESOURCES\n"
     ]
    },
    {
     "name": "stdout",
     "output_type": "stream",
     "text": [
      "Error: File 'RESOURCES' not found.\n"
     ]
    }
   ],
   "source": [
    "def process_data(filename):\n",
    "  \"\"\"Processes data from a file.\n",
    "\n",
    "  Handles ZeroDivisionError and FileNotFoundError using nested try-except blocks.\"\"\"\n",
    "  try:\n",
    "    with open(filename, 'r') as file:\n",
    "      data = file.readlines()\n",
    "      num1 = int(data[0])\n",
    "      num2 = int(data[1])\n",
    "      try:\n",
    "        result = num1 / num2\n",
    "        return result\n",
    "      except ZeroDivisionError:\n",
    "        return f\"Error: Division by zero encountered in file '{filename}'.\"\n",
    "  except FileNotFoundError:\n",
    "    return f\"Error: File '{filename}' not found.\"\n",
    "\n",
    "if __name__ == \"__main__\":\n",
    "  filename = input(\"Enter the filename: \")\n",
    "  result = process_data(filename)\n",
    "  print(result)"
   ]
  },
  {
   "cell_type": "markdown",
   "id": "83d126cf-b218-42b9-8f28-a4c4818b9c59",
   "metadata": {},
   "source": [
    "<h3 align=\"center\">Builtin Module</h3>"
   ]
  },
  {
   "cell_type": "markdown",
   "id": "1fd92975-3aea-4d5b-ac06-9a40c0104646",
   "metadata": {},
   "source": [
    "<p>11. Write a program using the math module to calculate the area of a circle. Prompt the user to input the\n",
    "radius and display the result using math.pi.</p>"
   ]
  },
  {
   "cell_type": "code",
   "execution_count": 66,
   "id": "b112881a-8010-4ea0-9e2d-bba406795005",
   "metadata": {},
   "outputs": [
    {
     "name": "stdin",
     "output_type": "stream",
     "text": [
      "Enter the radius of the circle:  3\n"
     ]
    },
    {
     "name": "stdout",
     "output_type": "stream",
     "text": [
      "The area of the circle is: 28.27\n"
     ]
    }
   ],
   "source": [
    "import math\n",
    "\n",
    "def calculate_circle_area():\n",
    "  \"\"\"Calculates the area of a circle.\"\"\"\n",
    "  try:\n",
    "    radius = float(input(\"Enter the radius of the circle: \"))\n",
    "    if radius < 0:\n",
    "      raise ValueError(\"Radius cannot be negative.\")\n",
    "    area = math.pi * radius ** 2\n",
    "    print(f\"The area of the circle is: {area:.2f}\") \n",
    "  except ValueError as e:\n",
    "    print(f\"Error: {e}\")\n",
    "\n",
    "if __name__ == \"__main__\":\n",
    "  calculate_circle_area()"
   ]
  },
  {
   "cell_type": "markdown",
   "id": "82b83d5a-a1cd-4c5c-8e4d-6f4f82ab1573",
   "metadata": {},
   "source": [
    "<p>12. Use the random module to generate and print 5 random integers between 1 and 100.</p>"
   ]
  },
  {
   "cell_type": "code",
   "execution_count": 69,
   "id": "99f88770-53be-4548-be6d-6eb9737ab1a3",
   "metadata": {},
   "outputs": [
    {
     "name": "stdout",
     "output_type": "stream",
     "text": [
      "11\n",
      "18\n",
      "8\n",
      "34\n",
      "35\n"
     ]
    }
   ],
   "source": [
    "import random\n",
    "\n",
    "def generate_random_numbers():\n",
    "  for _ in range(5):\n",
    "    random_number = random.randint(1, 100)\n",
    "    print(random_number)\n",
    "\n",
    "if __name__ == \"__main__\":\n",
    "  generate_random_numbers()"
   ]
  },
  {
   "cell_type": "markdown",
   "id": "a53b12d0-7fd6-4ec0-9d11-5c30598b93ff",
   "metadata": {},
   "source": [
    "<p>13. Write a script that uses the datetime module to print today’s date and time in the format: YYYY-MM-DD\n",
    "HH:MM:SS.</p>"
   ]
  },
  {
   "cell_type": "code",
   "execution_count": 72,
   "id": "8f452e68-2f05-4fbe-951f-187ec8f41c7b",
   "metadata": {},
   "outputs": [
    {
     "name": "stdout",
     "output_type": "stream",
     "text": [
      "2025-01-10 01:45:31\n"
     ]
    }
   ],
   "source": [
    "import datetime\n",
    "\n",
    "def get_current_datetime():\n",
    "  now = datetime.datetime.now()\n",
    "  formatted_datetime = now.strftime(\"%Y-%m-%d %H:%M:%S\")\n",
    "  return formatted_datetime\n",
    "\n",
    "if __name__ == \"__main__\":\n",
    "  current_datetime = get_current_datetime()\n",
    "  print(current_datetime)"
   ]
  },
  {
   "cell_type": "markdown",
   "id": "862f93d1-0bfd-46ff-92b3-63e92dea5bd9",
   "metadata": {},
   "source": [
    "<p>14. Use the time module to calculate the time it takes to execute a loop that prints numbers from 1 to\n",
    "1,000.</p>"
   ]
  },
  {
   "cell_type": "code",
   "execution_count": 77,
   "id": "cbddf515-9442-4e36-9cdc-07d3cb26da73",
   "metadata": {},
   "outputs": [
    {
     "name": "stdout",
     "output_type": "stream",
     "text": [
      "Time taken: 0.00000 seconds\n"
     ]
    }
   ],
   "source": [
    "import time\n",
    "\n",
    "def time_loop():\n",
    "  start_time = time.time()\n",
    "\n",
    "  for i in range(1, 1001):\n",
    "    pass  # Replace with the actual code to be timed\n",
    "\n",
    "  end_time = time.time()\n",
    "  elapsed_time = end_time - start_time\n",
    "  print(f\"Time taken: {elapsed_time:.5f} seconds\")\n",
    "\n",
    "if __name__ == \"__main__\":\n",
    "  time_loop()"
   ]
  },
  {
   "cell_type": "markdown",
   "id": "7687377a-37dc-483b-9089-5b092943e2b6",
   "metadata": {},
   "source": [
    "<p>15. Write a Python program using the statistics module to calculate the mean, median, and standard\n",
    "deviation of a given list of numbers.</p>"
   ]
  },
  {
   "cell_type": "code",
   "execution_count": 80,
   "id": "21ccec23-e79f-46ae-b21f-74c2b5b4527f",
   "metadata": {},
   "outputs": [
    {
     "name": "stdout",
     "output_type": "stream",
     "text": [
      "Mean: 30\n",
      "Median: 30\n",
      "Standard Deviation: 15.811388300841896\n"
     ]
    }
   ],
   "source": [
    "import statistics\n",
    "\n",
    "def calculate_statistics(data):\n",
    "  mean = statistics.mean(data)\n",
    "  median = statistics.median(data)\n",
    "  std_dev = statistics.stdev(data)\n",
    "  return mean, median, std_dev\n",
    "\n",
    "if __name__ == \"__main__\":\n",
    "  data = [10, 20, 30, 40, 50]  # Example data\n",
    "  mean, median, std_dev = calculate_statistics(data)\n",
    "\n",
    "  print(f\"Mean: {mean}\")\n",
    "  print(f\"Median: {median}\")\n",
    "  print(f\"Standard Deviation: {std_dev}\")"
   ]
  }
 ],
 "metadata": {
  "kernelspec": {
   "display_name": "Python 3 (ipykernel)",
   "language": "python",
   "name": "python3"
  },
  "language_info": {
   "codemirror_mode": {
    "name": "ipython",
    "version": 3
   },
   "file_extension": ".py",
   "mimetype": "text/x-python",
   "name": "python",
   "nbconvert_exporter": "python",
   "pygments_lexer": "ipython3",
   "version": "3.12.7"
  }
 },
 "nbformat": 4,
 "nbformat_minor": 5
}
