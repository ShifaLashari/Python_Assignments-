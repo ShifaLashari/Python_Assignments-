{
 "cells": [
  {
   "cell_type": "markdown",
   "id": "1e4c357c-75e6-4b14-ba23-31544d1baa11",
   "metadata": {},
   "source": [
    "<h1 align=\"center\"> Assignment Repetition Structure<h1>"
   ]
  },
  {
   "cell_type": "markdown",
   "id": "cef50747-e3f2-4891-a123-8c6aaeef411f",
   "metadata": {},
   "source": [
    "<h5>Print Numbers from 1 to N</h5>\n",
    "<p>Write a Python program using a for loop to calculate the sum of the first N natural numbers.</p>"
   ]
  },
  {
   "cell_type": "code",
   "execution_count": 13,
   "id": "0d585e4b-4286-4865-abb2-e35cdcb779ce",
   "metadata": {},
   "outputs": [
    {
     "name": "stdin",
     "output_type": "stream",
     "text": [
      "Enter a positive integer N:  32\n"
     ]
    },
    {
     "name": "stdout",
     "output_type": "stream",
     "text": [
      "1\n",
      "2\n",
      "3\n",
      "4\n",
      "5\n",
      "6\n",
      "7\n",
      "8\n",
      "9\n",
      "10\n",
      "11\n",
      "12\n",
      "13\n",
      "14\n",
      "15\n",
      "16\n",
      "17\n",
      "18\n",
      "19\n",
      "20\n",
      "21\n",
      "22\n",
      "23\n",
      "24\n",
      "25\n",
      "26\n",
      "27\n",
      "28\n",
      "29\n",
      "30\n",
      "31\n",
      "32\n"
     ]
    }
   ],
   "source": [
    "n = int(input(\"Enter a positive integer N: \"))\n",
    "\n",
    "i = 1\n",
    "while i <= n:\n",
    "    print(i)\n",
    "    i += 1"
   ]
  },
  {
   "cell_type": "markdown",
   "id": "580335bc-1ae9-4182-a66b-69c5f708f6bf",
   "metadata": {},
   "source": [
    "<h5> 2. sum of First N Natural Numbers</h5>\n",
    "<p>Write a Python program using a for loop to calculate the sum of the first N natural numbers.</p>"
   ]
  },
  {
   "cell_type": "code",
   "execution_count": 32,
   "id": "cb51941b-880e-4e3a-b991-37682ae6a7f0",
   "metadata": {},
   "outputs": [
    {
     "name": "stdin",
     "output_type": "stream",
     "text": [
      "Enter a positive integer N:  15\n"
     ]
    },
    {
     "name": "stdout",
     "output_type": "stream",
     "text": [
      "The sum of the first 15 natural numbers is: 120\n"
     ]
    }
   ],
   "source": [
    "n = int(input(\"Enter a positive integer N: \"))\n",
    "\n",
    "sum = 0\n",
    "for num in range(1, n+1):\n",
    "    sum += num\n",
    "\n",
    "print(\"The sum of the first\", n, \"natural numbers is:\", sum)"
   ]
  },
  {
   "cell_type": "markdown",
   "id": "82de7ad7-2e60-4c82-a421-a7aa1b145841",
   "metadata": {},
   "source": [
    "<h5>3. Count Even Numbers in a Range</h5>\n",
    "<p>Write a Python program using a for loop to count how many even numbers exist between two user-provided\n",
    "integers (inclusive).</p>"
   ]
  },
  {
   "cell_type": "code",
   "execution_count": 41,
   "id": "dc5f8ed9-9b1a-46b6-98ed-c9a4622b80cc",
   "metadata": {},
   "outputs": [
    {
     "name": "stdin",
     "output_type": "stream",
     "text": [
      "Enter the first number:  0\n",
      "Enter the last number:  26\n"
     ]
    },
    {
     "name": "stdout",
     "output_type": "stream",
     "text": [
      "Number of even numbers between 0 and 26 is: 14\n"
     ]
    }
   ],
   "source": [
    "first = int(input(\"Enter the first number: \"))\n",
    "last = int(input(\"Enter the last number: \"))\n",
    "\n",
    "count = 0\n",
    "for num in range(first, last + 1):\n",
    "    if num % 2 == 0:\n",
    "        count += 1\n",
    "\n",
    "print(\"Number of even numbers between\", first, \"and\", last, \"is:\", count)"
   ]
  },
  {
   "cell_type": "markdown",
   "id": "8b55c772-6188-4aca-9480-d5c98022de8d",
   "metadata": {},
   "source": [
    "<h5>4. Factorial of a Number</h5>\n",
    "<p>Write a program that calculates the factorial of a given number using a while loop.</p>"
   ]
  },
  {
   "cell_type": "code",
   "execution_count": 57,
   "id": "f5b73d15-d9ec-4500-934d-e520d893fc05",
   "metadata": {},
   "outputs": [
    {
     "name": "stdin",
     "output_type": "stream",
     "text": [
      "Enter a non-negative integer:  5\n"
     ]
    },
    {
     "name": "stdout",
     "output_type": "stream",
     "text": [
      "The factorial of 5 is 120\n"
     ]
    }
   ],
   "source": [
    "num = int(input(\"Enter a non-negative integer: \"))\n",
    "\n",
    "factorial = 1\n",
    "i = 1\n",
    "\n",
    "while i <= num:\n",
    "    factorial *= i\n",
    "    i += 1\n",
    "\n",
    "print(\"The factorial of\", num, \"is\", factorial)"
   ]
  },
  {
   "cell_type": "markdown",
   "id": "29f67579-e70a-4ffa-a002-cf60331db487",
   "metadata": {},
   "source": [
    "<h5>5. Check for Prime Number</h5>\n",
    "<p>Write a Python program that takes a number as input and checks if it is a prime number using a for-else loop.</p>"
   ]
  },
  {
   "cell_type": "code",
   "execution_count": 60,
   "id": "5ef963ad-61ea-4717-8e38-2d3658044157",
   "metadata": {},
   "outputs": [
    {
     "name": "stdin",
     "output_type": "stream",
     "text": [
      "Enter a number:  4\n"
     ]
    },
    {
     "name": "stdout",
     "output_type": "stream",
     "text": [
      "4 is not a prime number.\n"
     ]
    }
   ],
   "source": [
    "number = int(input(\"Enter a number: \"))\n",
    "\n",
    "# A prime number is greater than 1\n",
    "if number > 1:\n",
    "    for i in range(2, int(number ** 0.5) + 1):\n",
    "        if number % i == 0:\n",
    "            print(f\"{number} is not a prime number.\")\n",
    "            break\n",
    "    else:\n",
    "        print(f\"{number} is a prime number.\")\n",
    "else:\n",
    "    print(f\"{number} is not a prime number.\")\n"
   ]
  },
  {
   "cell_type": "markdown",
   "id": "4e244a0f-3f52-4809-8df1-4273c32ea110",
   "metadata": {},
   "source": [
    "<h5>6. Print Fibonacci Series</h5>\n",
    "<p>Write a Python program using a while loop to print the Fibonacci series up to a user-specified limit.\n",
    "(Example: If input is 10, output should be 0, 1, 1, 2, 3, 5, 8.)</p>"
   ]
  },
  {
   "cell_type": "code",
   "execution_count": 73,
   "id": "1426bc98-4bbc-41c6-a29a-605f42a6ed9a",
   "metadata": {},
   "outputs": [
    {
     "name": "stdin",
     "output_type": "stream",
     "text": [
      "Enter the limit for the Fibonacci series:  30\n"
     ]
    },
    {
     "name": "stdout",
     "output_type": "stream",
     "text": [
      "1 1 2 3 5 8 13 21 "
     ]
    }
   ],
   "source": [
    "limit = int(input(\"Enter the limit for the Fibonacci series: \"))\n",
    "\n",
    "a, b = 0, 1\n",
    "\n",
    "while b <= limit:\n",
    "    print(b, end=' ')\n",
    "    a, b = b, a + b"
   ]
  },
  {
   "cell_type": "markdown",
   "id": "346a4352-434c-47a5-8ff3-9b30dc6e4ca1",
   "metadata": {},
   "source": [
    "<h5>7. Guess the Number Game</h5>\n",
    "<p>Write a Python program where the computer selects a random number between 1 and 100. The user has to\n",
    "guess the number. Use a while loop to provide feedback (\"Too high\", \"Too low\") and continue until the user\n",
    "guesses correctly.</p>"
   ]
  },
  {
   "cell_type": "code",
   "execution_count": 76,
   "id": "59a11d00-f065-48a9-b258-a761e3a58a6f",
   "metadata": {},
   "outputs": [
    {
     "name": "stdin",
     "output_type": "stream",
     "text": [
      "Guess a number between 1 and 100:  60\n"
     ]
    },
    {
     "name": "stdout",
     "output_type": "stream",
     "text": [
      "Too high. Guess again.\n"
     ]
    },
    {
     "name": "stdin",
     "output_type": "stream",
     "text": [
      "Guess a number between 1 and 100:  45\n"
     ]
    },
    {
     "name": "stdout",
     "output_type": "stream",
     "text": [
      "Too low. Guess again.\n"
     ]
    },
    {
     "name": "stdin",
     "output_type": "stream",
     "text": [
      "Guess a number between 1 and 100:  50\n"
     ]
    },
    {
     "name": "stdout",
     "output_type": "stream",
     "text": [
      "Too high. Guess again.\n"
     ]
    },
    {
     "name": "stdin",
     "output_type": "stream",
     "text": [
      "Guess a number between 1 and 100:  45\n"
     ]
    },
    {
     "name": "stdout",
     "output_type": "stream",
     "text": [
      "Too low. Guess again.\n"
     ]
    },
    {
     "name": "stdin",
     "output_type": "stream",
     "text": [
      "Guess a number between 1 and 100:  46\n"
     ]
    },
    {
     "name": "stdout",
     "output_type": "stream",
     "text": [
      "Congratulations! You guessed the number.\n"
     ]
    }
   ],
   "source": [
    "import random\n",
    "\n",
    "number = random.randint(1, 100)\n",
    "\n",
    "guess = 0\n",
    "while guess != number:\n",
    "    guess = int(input(\"Guess a number between 1 and 100: \"))\n",
    "\n",
    "    if guess < number:\n",
    "        print(\"Too low. Guess again.\")\n",
    "    elif guess > number:\n",
    "        print(\"Too high. Guess again.\")\n",
    "    else:\n",
    "        print(\"Congratulations! You guessed the number.\")"
   ]
  },
  {
   "cell_type": "markdown",
   "id": "0d717c1e-247a-4c14-8e76-61bd8ee1a293",
   "metadata": {},
   "source": [
    "<h5>8. Find the Smallest Divisor</h5>\n",
    "<p>Write a Python program that takes an integer as input and finds its smallest divisor greater than 1 using a for\n",
    "loop. Use a for-else loop to print \"Prime\" if no divisor is found.</p>"
   ]
  },
  {
   "cell_type": "code",
   "execution_count": 81,
   "id": "deaebf4a-2cec-4792-bfd4-50578256b66d",
   "metadata": {},
   "outputs": [
    {
     "name": "stdin",
     "output_type": "stream",
     "text": [
      "Enter a positive integer:  22\n"
     ]
    },
    {
     "name": "stdout",
     "output_type": "stream",
     "text": [
      "The smallest divisor greater than 1 is: 2\n"
     ]
    }
   ],
   "source": [
    "num = int(input(\"Enter a positive integer: \"))\n",
    "\n",
    "for i in range(2, int(num**0.5) + 1):\n",
    "    if num % i == 0:\n",
    "        print(\"The smallest divisor greater than 1 is:\", i)\n",
    "        break\n",
    "else:\n",
    "    print(num, \"is a prime number\")"
   ]
  },
  {
   "cell_type": "markdown",
   "id": "0d4e6cc9-35d3-442e-bbc7-6132a125e7cd",
   "metadata": {},
   "source": [
    "<h5>9. Nested Loops: Multiplication Table</h5>\n",
    "<p>Write a program using nested for loops to print the multiplication table for numbers from 1 to N.\n",
    "(Example: If N = 3, the output should show tables for 1, 2, and 3.)</p>"
   ]
  },
  {
   "cell_type": "code",
   "execution_count": 84,
   "id": "53802da4-75e8-4bd2-ad9f-4e290cccd54c",
   "metadata": {},
   "outputs": [
    {
     "name": "stdin",
     "output_type": "stream",
     "text": [
      "Enter the value of N:  12\n"
     ]
    },
    {
     "name": "stdout",
     "output_type": "stream",
     "text": [
      "Multiplication table for 1:\n",
      "1 x 1 = 1\n",
      "1 x 2 = 2\n",
      "1 x 3 = 3\n",
      "1 x 4 = 4\n",
      "1 x 5 = 5\n",
      "1 x 6 = 6\n",
      "1 x 7 = 7\n",
      "1 x 8 = 8\n",
      "1 x 9 = 9\n",
      "1 x 10 = 10\n",
      "\n",
      "Multiplication table for 2:\n",
      "2 x 1 = 2\n",
      "2 x 2 = 4\n",
      "2 x 3 = 6\n",
      "2 x 4 = 8\n",
      "2 x 5 = 10\n",
      "2 x 6 = 12\n",
      "2 x 7 = 14\n",
      "2 x 8 = 16\n",
      "2 x 9 = 18\n",
      "2 x 10 = 20\n",
      "\n",
      "Multiplication table for 3:\n",
      "3 x 1 = 3\n",
      "3 x 2 = 6\n",
      "3 x 3 = 9\n",
      "3 x 4 = 12\n",
      "3 x 5 = 15\n",
      "3 x 6 = 18\n",
      "3 x 7 = 21\n",
      "3 x 8 = 24\n",
      "3 x 9 = 27\n",
      "3 x 10 = 30\n",
      "\n",
      "Multiplication table for 4:\n",
      "4 x 1 = 4\n",
      "4 x 2 = 8\n",
      "4 x 3 = 12\n",
      "4 x 4 = 16\n",
      "4 x 5 = 20\n",
      "4 x 6 = 24\n",
      "4 x 7 = 28\n",
      "4 x 8 = 32\n",
      "4 x 9 = 36\n",
      "4 x 10 = 40\n",
      "\n",
      "Multiplication table for 5:\n",
      "5 x 1 = 5\n",
      "5 x 2 = 10\n",
      "5 x 3 = 15\n",
      "5 x 4 = 20\n",
      "5 x 5 = 25\n",
      "5 x 6 = 30\n",
      "5 x 7 = 35\n",
      "5 x 8 = 40\n",
      "5 x 9 = 45\n",
      "5 x 10 = 50\n",
      "\n",
      "Multiplication table for 6:\n",
      "6 x 1 = 6\n",
      "6 x 2 = 12\n",
      "6 x 3 = 18\n",
      "6 x 4 = 24\n",
      "6 x 5 = 30\n",
      "6 x 6 = 36\n",
      "6 x 7 = 42\n",
      "6 x 8 = 48\n",
      "6 x 9 = 54\n",
      "6 x 10 = 60\n",
      "\n",
      "Multiplication table for 7:\n",
      "7 x 1 = 7\n",
      "7 x 2 = 14\n",
      "7 x 3 = 21\n",
      "7 x 4 = 28\n",
      "7 x 5 = 35\n",
      "7 x 6 = 42\n",
      "7 x 7 = 49\n",
      "7 x 8 = 56\n",
      "7 x 9 = 63\n",
      "7 x 10 = 70\n",
      "\n",
      "Multiplication table for 8:\n",
      "8 x 1 = 8\n",
      "8 x 2 = 16\n",
      "8 x 3 = 24\n",
      "8 x 4 = 32\n",
      "8 x 5 = 40\n",
      "8 x 6 = 48\n",
      "8 x 7 = 56\n",
      "8 x 8 = 64\n",
      "8 x 9 = 72\n",
      "8 x 10 = 80\n",
      "\n",
      "Multiplication table for 9:\n",
      "9 x 1 = 9\n",
      "9 x 2 = 18\n",
      "9 x 3 = 27\n",
      "9 x 4 = 36\n",
      "9 x 5 = 45\n",
      "9 x 6 = 54\n",
      "9 x 7 = 63\n",
      "9 x 8 = 72\n",
      "9 x 9 = 81\n",
      "9 x 10 = 90\n",
      "\n",
      "Multiplication table for 10:\n",
      "10 x 1 = 10\n",
      "10 x 2 = 20\n",
      "10 x 3 = 30\n",
      "10 x 4 = 40\n",
      "10 x 5 = 50\n",
      "10 x 6 = 60\n",
      "10 x 7 = 70\n",
      "10 x 8 = 80\n",
      "10 x 9 = 90\n",
      "10 x 10 = 100\n",
      "\n",
      "Multiplication table for 11:\n",
      "11 x 1 = 11\n",
      "11 x 2 = 22\n",
      "11 x 3 = 33\n",
      "11 x 4 = 44\n",
      "11 x 5 = 55\n",
      "11 x 6 = 66\n",
      "11 x 7 = 77\n",
      "11 x 8 = 88\n",
      "11 x 9 = 99\n",
      "11 x 10 = 110\n",
      "\n",
      "Multiplication table for 12:\n",
      "12 x 1 = 12\n",
      "12 x 2 = 24\n",
      "12 x 3 = 36\n",
      "12 x 4 = 48\n",
      "12 x 5 = 60\n",
      "12 x 6 = 72\n",
      "12 x 7 = 84\n",
      "12 x 8 = 96\n",
      "12 x 9 = 108\n",
      "12 x 10 = 120\n",
      "\n"
     ]
    }
   ],
   "source": [
    "N = int(input(\"Enter the value of N: \"))\n",
    "\n",
    "for i in range(1, N+1):\n",
    "    print(f\"Multiplication table for {i}:\")\n",
    "    for j in range(1, 11):\n",
    "        print(f\"{i} x {j} = {i*j}\")\n",
    "    print()"
   ]
  },
  {
   "cell_type": "markdown",
   "id": "bc8da69c-eb6c-4d6a-9bcd-986999987a41",
   "metadata": {},
   "source": [
    "<h5>10. Number Pyramid</h5>\n",
    "<p>Write a Python program using nested loops to print a number pyramid up to a user-specified number of levels.</p>"
   ]
  },
  {
   "cell_type": "code",
   "execution_count": 87,
   "id": "cfcaa364-6506-4d48-a673-be507314ad57",
   "metadata": {},
   "outputs": [
    {
     "name": "stdin",
     "output_type": "stream",
     "text": [
      "Enter the number of levels:  6\n"
     ]
    },
    {
     "name": "stdout",
     "output_type": "stream",
     "text": [
      "     \n",
      "    12\n",
      "   1234\n",
      "  123456\n",
      " 12345678\n",
      "12345678910\n"
     ]
    }
   ],
   "source": [
    "levels = int(input(\"Enter the number of levels: \"))\n",
    "\n",
    "for i in range(1, levels+1):\n",
    "    for j in range(1, levels-i+1):\n",
    "        print(\" \", end=\"\")\n",
    "    for k in range(1, 2*i-1):\n",
    "        print(k, end=\"\")\n",
    "    print()"
   ]
  },
  {
   "cell_type": "code",
   "execution_count": null,
   "id": "f7158c5b-751e-4f02-855e-fa46c4cef620",
   "metadata": {},
   "outputs": [],
   "source": []
  }
 ],
 "metadata": {
  "kernelspec": {
   "display_name": "Python 3 (ipykernel)",
   "language": "python",
   "name": "python3"
  },
  "language_info": {
   "codemirror_mode": {
    "name": "ipython",
    "version": 3
   },
   "file_extension": ".py",
   "mimetype": "text/x-python",
   "name": "python",
   "nbconvert_exporter": "python",
   "pygments_lexer": "ipython3",
   "version": "3.12.7"
  }
 },
 "nbformat": 4,
 "nbformat_minor": 5
}
